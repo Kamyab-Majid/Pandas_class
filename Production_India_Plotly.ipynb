{
 "cells": [
  {
   "cell_type": "code",
   "execution_count": 64,
   "metadata": {},
   "outputs": [
    {
     "data": {
      "text/plain": [
       "'file:///Users/siva/Documents/Code/Pandas/temp-plot.html'"
      ]
     },
     "execution_count": 64,
     "metadata": {},
     "output_type": "execute_result"
    }
   ],
   "source": [
    "import plotly\n",
    "from plotly.graph_objs import Scatter, Layout\n",
    "import plotly.graph_objs as go\n",
    "\n",
    "\n",
    "marks_data = [go.Bar(x=production.index, y=production[\"2000-01\"])]\n",
    "\n",
    "plotly.offline.plot({ 'data': marks_data,\n",
    "            'layout': {\n",
    "               'title': 'Marks Distribution',\n",
    "               'xaxis': {\n",
    "                 'title': 'Items'},\n",
    "               'yaxis': {\n",
    "                'title': 'Year '}\n",
    "        }})\n",
    "\n"
   ]
  },
  {
   "cell_type": "code",
   "execution_count": 41,
   "metadata": {
    "collapsed": true
   },
   "outputs": [],
   "source": [
    "import pandas as pd"
   ]
  },
  {
   "cell_type": "code",
   "execution_count": 42,
   "metadata": {
    "collapsed": true
   },
   "outputs": [],
   "source": [
    "production = pd.read_csv(\"mobile.csv\", index_col=\"Item\")"
   ]
  },
  {
   "cell_type": "code",
   "execution_count": 57,
   "metadata": {},
   "outputs": [
    {
     "data": {
      "text/html": [
       "<div>\n",
       "<style>\n",
       "    .dataframe thead tr:only-child th {\n",
       "        text-align: right;\n",
       "    }\n",
       "\n",
       "    .dataframe thead th {\n",
       "        text-align: left;\n",
       "    }\n",
       "\n",
       "    .dataframe tbody tr th {\n",
       "        vertical-align: top;\n",
       "    }\n",
       "</style>\n",
       "<table border=\"1\" class=\"dataframe\">\n",
       "  <thead>\n",
       "    <tr style=\"text-align: right;\">\n",
       "      <th></th>\n",
       "      <th>2000-01</th>\n",
       "      <th>2014-15</th>\n",
       "    </tr>\n",
       "    <tr>\n",
       "      <th>Item</th>\n",
       "      <th></th>\n",
       "      <th></th>\n",
       "    </tr>\n",
       "  </thead>\n",
       "  <tbody>\n",
       "    <tr>\n",
       "      <th>Consumer Electronics</th>\n",
       "      <td>11950.0</td>\n",
       "      <td>55806</td>\n",
       "    </tr>\n",
       "    <tr>\n",
       "      <th>Industrial Electronics</th>\n",
       "      <td>4000.0</td>\n",
       "      <td>39374</td>\n",
       "    </tr>\n",
       "    <tr>\n",
       "      <th>Computer Hardware</th>\n",
       "      <td>3400.0</td>\n",
       "      <td>18691</td>\n",
       "    </tr>\n",
       "    <tr>\n",
       "      <th>Mobile Handsets</th>\n",
       "      <td>4500.0</td>\n",
       "      <td>18900</td>\n",
       "    </tr>\n",
       "    <tr>\n",
       "      <th>Strategic Electronics</th>\n",
       "      <td>1750.0</td>\n",
       "      <td>15700</td>\n",
       "    </tr>\n",
       "    <tr>\n",
       "      <th>Electronics Components</th>\n",
       "      <td>500.0</td>\n",
       "      <td>39723</td>\n",
       "    </tr>\n",
       "    <tr>\n",
       "      <th>LED (Part of Electronic Components)</th>\n",
       "      <td>NaN</td>\n",
       "      <td>2172</td>\n",
       "    </tr>\n",
       "    <tr>\n",
       "      <th>Sub-Total (Hardware)</th>\n",
       "      <td>31100.0</td>\n",
       "      <td>190366</td>\n",
       "    </tr>\n",
       "    <tr>\n",
       "      <th>Software for Exports</th>\n",
       "      <td>28350.0</td>\n",
       "      <td>600000</td>\n",
       "    </tr>\n",
       "    <tr>\n",
       "      <th>Domestic Software</th>\n",
       "      <td>9400.0</td>\n",
       "      <td>129432</td>\n",
       "    </tr>\n",
       "    <tr>\n",
       "      <th>Sub-Total (Software)</th>\n",
       "      <td>37750.0</td>\n",
       "      <td>729432</td>\n",
       "    </tr>\n",
       "  </tbody>\n",
       "</table>\n",
       "</div>"
      ],
      "text/plain": [
       "                                     2000-01  2014-15\n",
       "Item                                                 \n",
       "Consumer Electronics                 11950.0    55806\n",
       "Industrial Electronics                4000.0    39374\n",
       "Computer Hardware                     3400.0    18691\n",
       "Mobile Handsets                       4500.0    18900\n",
       "Strategic Electronics                 1750.0    15700\n",
       "Electronics Components                 500.0    39723\n",
       "LED (Part of Electronic Components)      NaN     2172\n",
       "Sub-Total (Hardware)                 31100.0   190366\n",
       "Software for Exports                 28350.0   600000\n",
       "Domestic Software                     9400.0   129432\n",
       "Sub-Total (Software)                 37750.0   729432"
      ]
     },
     "execution_count": 57,
     "metadata": {},
     "output_type": "execute_result"
    }
   ],
   "source": [
    "production.head()\n",
    "\n",
    "production.index\n",
    "\n",
    "production[\"2000-01\"]\n",
    "\n",
    "production.head()\n",
    "\n",
    "production[[\"2000-01\",\"2014-15\"]]\n",
    "\n",
    "production.groupby(\"\")"
   ]
  },
  {
   "cell_type": "code",
   "execution_count": 23,
   "metadata": {},
   "outputs": [
    {
     "data": {
      "text/plain": [
       "'file:///Users/siva/Documents/Code/Pandas/scatter-mode.html'"
      ]
     },
     "execution_count": 23,
     "metadata": {},
     "output_type": "execute_result"
    }
   ],
   "source": [
    "import plotly.plotly as py\n",
    "import plotly.graph_objs as go\n",
    "\n",
    "# Create random data with numpy\n",
    "import numpy as np\n",
    "\n",
    "N = 100\n",
    "random_x = np.linspace(0, 1, N)\n",
    "random_y0 = np.random.randn(N)+5\n",
    "random_y1 = np.random.randn(N)\n",
    "random_y2 = np.random.randn(N)-5\n",
    "\n",
    "# Create traces\n",
    "trace0 = go.Scatter(\n",
    "    x = random_x,\n",
    "    y = random_y0,\n",
    "    mode = 'markers',\n",
    "    name = 'markers'\n",
    ")\n",
    "trace1 = go.Scatter(\n",
    "    x = random_x,\n",
    "    y = random_y1,\n",
    "    mode = 'lines+markers',\n",
    "    name = 'lines+markers'\n",
    ")\n",
    "trace2 = go.Scatter(\n",
    "    x = random_x,\n",
    "    y = random_y2,\n",
    "    mode = 'lines',\n",
    "    name = 'lines'\n",
    ")\n",
    "\n",
    "data = [trace0, trace1, trace2]\n",
    "plotly.offline.plot(data, filename='scatter-mode.html')"
   ]
  },
  {
   "cell_type": "code",
   "execution_count": 35,
   "metadata": {},
   "outputs": [
    {
     "data": {
      "text/plain": [
       "'file:///Users/siva/Documents/Code/Pandas/sample-data-table.html'"
      ]
     },
     "execution_count": 35,
     "metadata": {},
     "output_type": "execute_result"
    }
   ],
   "source": [
    "import plotly.plotly as py\n",
    "import plotly.graph_objs as go\n",
    "import plotly.figure_factory as FF\n",
    "\n",
    "import numpy as np\n",
    "import pandas as pd\n",
    "df = pd.read_csv('mobile.csv')\n",
    "\n",
    "sample_data_table = FF.create_table(df.head())\n",
    "plotly.offline.plot(sample_data_table, filename='sample-data-table.html')"
   ]
  },
  {
   "cell_type": "code",
   "execution_count": 26,
   "metadata": {},
   "outputs": [
    {
     "data": {
      "text/html": [
       "<iframe id=\"igraph\" scrolling=\"no\" style=\"border:none;\" seamless=\"seamless\" src=\"https://plot.ly/~cufflinks/8.embed\" height=\"525\" width=\"100%\"></iframe>"
      ],
      "text/plain": [
       "<plotly.tools.PlotlyDisplay object>"
      ]
     },
     "execution_count": 26,
     "metadata": {},
     "output_type": "execute_result"
    }
   ],
   "source": [
    "import plotly.tools as tls\n",
    "tls.embed('https://plot.ly/~cufflinks/8')"
   ]
  },
  {
   "cell_type": "code",
   "execution_count": 36,
   "metadata": {},
   "outputs": [
    {
     "data": {
      "text/plain": [
       "'file:///Users/siva/Documents/Code/Pandas/temp-plot.html'"
      ]
     },
     "execution_count": 36,
     "metadata": {},
     "output_type": "execute_result"
    }
   ],
   "source": [
    "from plotly.graph_objs import *\n",
    "import numpy as np\n",
    "\n",
    "x = np.random.randn(2000)\n",
    "y = np.random.randn(2000)\n",
    "plotly.offline.plot([Histogram2dContour(x=x, y=y, contours=Contours(coloring='heatmap')),\n",
    "       Scatter(x=x, y=y, mode='markers', marker=Marker(color='white', size=3, opacity=0.3))], show_link=False)"
   ]
  },
  {
   "cell_type": "code",
   "execution_count": 37,
   "metadata": {},
   "outputs": [
    {
     "data": {
      "text/plain": [
       "'file:///Users/siva/Documents/Code/Pandas/temp-plot.html'"
      ]
     },
     "execution_count": 37,
     "metadata": {},
     "output_type": "execute_result"
    }
   ],
   "source": [
    "import cufflinks as cf\n",
    "plotly.offline.plot(cf.datagen.lines().iplot(asFigure=True,\n",
    "                               kind='scatter',xTitle='Dates',yTitle='Returns',title='Returns'))"
   ]
  },
  {
   "cell_type": "code",
   "execution_count": 38,
   "metadata": {},
   "outputs": [
    {
     "data": {
      "text/plain": [
       "'file:///Users/siva/Documents/Code/Pandas/temp-plot.html'"
      ]
     },
     "execution_count": 38,
     "metadata": {},
     "output_type": "execute_result"
    }
   ],
   "source": [
    "import plotly.plotly as py \n",
    "\n",
    "fig = py.get_figure('https://plot.ly/~jackp/8715', raw=True)\n",
    "plotly.offline.plot(fig)"
   ]
  },
  {
   "cell_type": "code",
   "execution_count": 84,
   "metadata": {
    "collapsed": true
   },
   "outputs": [],
   "source": [
    "mobile = pd.read_csv(\"mobile.csv\", index_col=\"Item\")"
   ]
  },
  {
   "cell_type": "code",
   "execution_count": 94,
   "metadata": {},
   "outputs": [
    {
     "data": {
      "text/plain": [
       "14"
      ]
     },
     "execution_count": 94,
     "metadata": {},
     "output_type": "execute_result"
    }
   ],
   "source": [
    "\n",
    "\n",
    "mobile.head()\n",
    "\n",
    "mobile_t = mobile.transpose()\n",
    "\n",
    "mobile_t.head()\n",
    "\n",
    "mobile_t[\"Mobile Handsets\"].nunique()"
   ]
  },
  {
   "cell_type": "code",
   "execution_count": 105,
   "metadata": {
    "collapsed": true
   },
   "outputs": [],
   "source": [
    "import plotly\n",
    "from plotly.graph_objs import Scatter, Layout\n",
    "import plotly.graph_objs as go\n",
    "\n",
    "\n",
    "mobile_data = [go.Bar(x=mobile_t.index, y=mobile_t[\"Mobile Handsets\"])]\n",
    "\n",
    "plotly.offline.plot({ 'data': mobile_data,\n",
    "            'layout': {\n",
    "               'title': 'Mobile Production India',\n",
    "               'xaxis': {\n",
    "                 'title': 'Year'},\n",
    "               'yaxis': {\n",
    "                'title': 'Sales '}\n",
    "        }})\n",
    "\n",
    "output = None"
   ]
  },
  {
   "cell_type": "code",
   "execution_count": 136,
   "metadata": {
    "collapsed": true
   },
   "outputs": [],
   "source": [
    "production = pd.read_csv(\"production.csv\", index_col=\"Item\")"
   ]
  },
  {
   "cell_type": "code",
   "execution_count": 137,
   "metadata": {
    "collapsed": true
   },
   "outputs": [],
   "source": [
    "production_t = production.transpose()"
   ]
  },
  {
   "cell_type": "code",
   "execution_count": 168,
   "metadata": {
    "collapsed": true
   },
   "outputs": [],
   "source": [
    "production_t.head()\n",
    "\n",
    "df = df.drop('2001-02', 0)\n"
   ]
  },
  {
   "cell_type": "code",
   "execution_count": 169,
   "metadata": {},
   "outputs": [
    {
     "data": {
      "text/html": [
       "<div>\n",
       "<style>\n",
       "    .dataframe thead tr:only-child th {\n",
       "        text-align: right;\n",
       "    }\n",
       "\n",
       "    .dataframe thead th {\n",
       "        text-align: left;\n",
       "    }\n",
       "\n",
       "    .dataframe tbody tr th {\n",
       "        vertical-align: top;\n",
       "    }\n",
       "</style>\n",
       "<table border=\"1\" class=\"dataframe\">\n",
       "  <thead>\n",
       "    <tr style=\"text-align: right;\">\n",
       "      <th>Item</th>\n",
       "      <th>Consumer Electronics</th>\n",
       "      <th>Industrial Electronics</th>\n",
       "      <th>Computer Hardware</th>\n",
       "      <th>Mobile Handsets</th>\n",
       "      <th>Strategic Electronics</th>\n",
       "      <th>Electronics Components</th>\n",
       "      <th>Sub-Total (Hardware)</th>\n",
       "      <th>Software for Exports</th>\n",
       "      <th>Domestic Software</th>\n",
       "      <th>Sub-Total (Software)</th>\n",
       "    </tr>\n",
       "  </thead>\n",
       "  <tbody>\n",
       "    <tr>\n",
       "      <th>2002-03</th>\n",
       "      <td>13800</td>\n",
       "      <td>5550</td>\n",
       "      <td>4250</td>\n",
       "      <td>4800</td>\n",
       "      <td>2500</td>\n",
       "      <td>6600</td>\n",
       "      <td>37500</td>\n",
       "      <td>46100</td>\n",
       "      <td>13400</td>\n",
       "      <td>59500</td>\n",
       "    </tr>\n",
       "    <tr>\n",
       "      <th>2003-04</th>\n",
       "      <td>15200</td>\n",
       "      <td>6100</td>\n",
       "      <td>6800</td>\n",
       "      <td>5350</td>\n",
       "      <td>2750</td>\n",
       "      <td>7600</td>\n",
       "      <td>43800</td>\n",
       "      <td>58240</td>\n",
       "      <td>16250</td>\n",
       "      <td>16250</td>\n",
       "    </tr>\n",
       "    <tr>\n",
       "      <th>2004-05</th>\n",
       "      <td>16800</td>\n",
       "      <td>8300</td>\n",
       "      <td>8800</td>\n",
       "      <td>4800</td>\n",
       "      <td>3000</td>\n",
       "      <td>8800</td>\n",
       "      <td>50500</td>\n",
       "      <td>80180</td>\n",
       "      <td>21740</td>\n",
       "      <td>101920</td>\n",
       "    </tr>\n",
       "    <tr>\n",
       "      <th>2005-06</th>\n",
       "      <td>18000</td>\n",
       "      <td>8800</td>\n",
       "      <td>10800</td>\n",
       "      <td>7000</td>\n",
       "      <td>3200</td>\n",
       "      <td>8800</td>\n",
       "      <td>56600</td>\n",
       "      <td>104100</td>\n",
       "      <td>29600</td>\n",
       "      <td>133700</td>\n",
       "    </tr>\n",
       "    <tr>\n",
       "      <th>2006-07</th>\n",
       "      <td>20000</td>\n",
       "      <td>10400</td>\n",
       "      <td>12800</td>\n",
       "      <td>9500</td>\n",
       "      <td>4500</td>\n",
       "      <td>8800</td>\n",
       "      <td>66000</td>\n",
       "      <td>141000</td>\n",
       "      <td>37000</td>\n",
       "      <td>178000</td>\n",
       "    </tr>\n",
       "    <tr>\n",
       "      <th>2007-08</th>\n",
       "      <td>22600</td>\n",
       "      <td>11910</td>\n",
       "      <td>15870</td>\n",
       "      <td>18700</td>\n",
       "      <td>5700</td>\n",
       "      <td>9630</td>\n",
       "      <td>84410</td>\n",
       "      <td>164400</td>\n",
       "      <td>47010</td>\n",
       "      <td>211410</td>\n",
       "    </tr>\n",
       "    <tr>\n",
       "      <th>2008-09</th>\n",
       "      <td>25550</td>\n",
       "      <td>12740</td>\n",
       "      <td>13490</td>\n",
       "      <td>26600</td>\n",
       "      <td>6840</td>\n",
       "      <td>12040</td>\n",
       "      <td>97260</td>\n",
       "      <td>216190</td>\n",
       "      <td>59000</td>\n",
       "      <td>275190</td>\n",
       "    </tr>\n",
       "    <tr>\n",
       "      <th>2009-10</th>\n",
       "      <td>29000</td>\n",
       "      <td>15160</td>\n",
       "      <td>14970</td>\n",
       "      <td>31000</td>\n",
       "      <td>6980</td>\n",
       "      <td>13610</td>\n",
       "      <td>110720</td>\n",
       "      <td>237000</td>\n",
       "      <td>67800</td>\n",
       "      <td>304800</td>\n",
       "    </tr>\n",
       "    <tr>\n",
       "      <th>2010-11</th>\n",
       "      <td>32000</td>\n",
       "      <td>17000</td>\n",
       "      <td>14970</td>\n",
       "      <td>35400</td>\n",
       "      <td>7700</td>\n",
       "      <td>21800</td>\n",
       "      <td>128870</td>\n",
       "      <td>268610</td>\n",
       "      <td>78700</td>\n",
       "      <td>347310</td>\n",
       "    </tr>\n",
       "    <tr>\n",
       "      <th>2011-12</th>\n",
       "      <td>34300</td>\n",
       "      <td>18700</td>\n",
       "      <td>16500</td>\n",
       "      <td>40500</td>\n",
       "      <td>8500</td>\n",
       "      <td>24800</td>\n",
       "      <td>143300</td>\n",
       "      <td>332769</td>\n",
       "      <td>91766</td>\n",
       "      <td>424535</td>\n",
       "    </tr>\n",
       "    <tr>\n",
       "      <th>2012-13</th>\n",
       "      <td>40447</td>\n",
       "      <td>25800</td>\n",
       "      <td>9376</td>\n",
       "      <td>34600</td>\n",
       "      <td>9000</td>\n",
       "      <td>26645</td>\n",
       "      <td>147143</td>\n",
       "      <td>412191</td>\n",
       "      <td>104700</td>\n",
       "      <td>516891</td>\n",
       "    </tr>\n",
       "    <tr>\n",
       "      <th>2013-14</th>\n",
       "      <td>47599</td>\n",
       "      <td>33600</td>\n",
       "      <td>17484</td>\n",
       "      <td>26650</td>\n",
       "      <td>13800</td>\n",
       "      <td>32102</td>\n",
       "      <td>173176</td>\n",
       "      <td>527292</td>\n",
       "      <td>114784</td>\n",
       "      <td>642076</td>\n",
       "    </tr>\n",
       "    <tr>\n",
       "      <th>2014-15</th>\n",
       "      <td>55806</td>\n",
       "      <td>39374</td>\n",
       "      <td>18691</td>\n",
       "      <td>18900</td>\n",
       "      <td>15700</td>\n",
       "      <td>39723</td>\n",
       "      <td>190366</td>\n",
       "      <td>600000</td>\n",
       "      <td>129432</td>\n",
       "      <td>729432</td>\n",
       "    </tr>\n",
       "  </tbody>\n",
       "</table>\n",
       "</div>"
      ],
      "text/plain": [
       "Item    Consumer Electronics Industrial Electronics Computer Hardware  \\\n",
       "2002-03                13800                   5550              4250   \n",
       "2003-04                15200                   6100              6800   \n",
       "2004-05                16800                   8300              8800   \n",
       "2005-06                18000                   8800             10800   \n",
       "2006-07                20000                  10400             12800   \n",
       "2007-08                22600                  11910             15870   \n",
       "2008-09                25550                  12740             13490   \n",
       "2009-10                29000                  15160             14970   \n",
       "2010-11                32000                  17000             14970   \n",
       "2011-12                34300                  18700             16500   \n",
       "2012-13                40447                  25800              9376   \n",
       "2013-14                47599                  33600             17484   \n",
       "2014-15                55806                  39374             18691   \n",
       "\n",
       "Item    Mobile Handsets Strategic Electronics Electronics Components  \\\n",
       "2002-03            4800                  2500                   6600   \n",
       "2003-04            5350                  2750                   7600   \n",
       "2004-05            4800                  3000                   8800   \n",
       "2005-06            7000                  3200                   8800   \n",
       "2006-07            9500                  4500                   8800   \n",
       "2007-08           18700                  5700                   9630   \n",
       "2008-09           26600                  6840                  12040   \n",
       "2009-10           31000                  6980                  13610   \n",
       "2010-11           35400                  7700                  21800   \n",
       "2011-12           40500                  8500                  24800   \n",
       "2012-13           34600                  9000                  26645   \n",
       "2013-14           26650                 13800                  32102   \n",
       "2014-15           18900                 15700                  39723   \n",
       "\n",
       "Item    Sub-Total (Hardware) Software for Exports Domestic Software  \\\n",
       "2002-03                37500                46100             13400   \n",
       "2003-04                43800                58240             16250   \n",
       "2004-05                50500                80180             21740   \n",
       "2005-06                56600               104100             29600   \n",
       "2006-07                66000               141000             37000   \n",
       "2007-08                84410               164400             47010   \n",
       "2008-09                97260               216190             59000   \n",
       "2009-10               110720               237000             67800   \n",
       "2010-11               128870               268610             78700   \n",
       "2011-12               143300               332769             91766   \n",
       "2012-13               147143               412191            104700   \n",
       "2013-14               173176               527292            114784   \n",
       "2014-15               190366               600000            129432   \n",
       "\n",
       "Item    Sub-Total (Software)  \n",
       "2002-03                59500  \n",
       "2003-04                16250  \n",
       "2004-05               101920  \n",
       "2005-06               133700  \n",
       "2006-07               178000  \n",
       "2007-08               211410  \n",
       "2008-09               275190  \n",
       "2009-10               304800  \n",
       "2010-11               347310  \n",
       "2011-12               424535  \n",
       "2012-13               516891  \n",
       "2013-14               642076  \n",
       "2014-15               729432  "
      ]
     },
     "execution_count": 169,
     "metadata": {},
     "output_type": "execute_result"
    }
   ],
   "source": [
    "production_t = df\n",
    "\n",
    "df"
   ]
  },
  {
   "cell_type": "code",
   "execution_count": 154,
   "metadata": {},
   "outputs": [
    {
     "name": "stderr",
     "output_type": "stream",
     "text": [
      "/Users/siva/anaconda3/lib/python3.6/site-packages/plotly/offline/offline.py:459: UserWarning:\n",
      "\n",
      "Your filename `line-mode` didn't end with .html. Adding .html to the end of your file.\n",
      "\n"
     ]
    },
    {
     "data": {
      "text/plain": [
       "'file:///Users/siva/Documents/Code/Pandas/line-mode.html'"
      ]
     },
     "execution_count": 154,
     "metadata": {},
     "output_type": "execute_result"
    }
   ],
   "source": [
    "import plotly.plotly as py\n",
    "import plotly.graph_objs as go\n",
    "\n",
    "# Create random data with numpy\n",
    "import numpy as np\n",
    "\n",
    "N = 100\n",
    "random_x = np.linspace(0, 1, N)\n",
    "random_y0 = np.random.randn(N)+5\n",
    "random_y1 = np.random.randn(N)\n",
    "random_y2 = np.random.randn(N)-5\n",
    "\n",
    "# Create traces\n",
    "trace0 = go.Scatter(\n",
    "    x = random_x,\n",
    "    y = random_y0,\n",
    "    mode = 'lines',\n",
    "    name = 'lines'\n",
    ")\n",
    "trace1 = go.Scatter(\n",
    "    x = random_x,\n",
    "    y = random_y1,\n",
    "    mode = 'lines+markers',\n",
    "    name = 'lines+markers'\n",
    ")\n",
    "trace2 = go.Scatter(\n",
    "    x = random_x,\n",
    "    y = random_y2,\n",
    "    mode = 'markers',\n",
    "    name = 'markers'\n",
    ")\n",
    "data = [trace0, trace1, trace2]\n",
    "\n",
    "plotly.offline.plot(data, filename='line-mode')"
   ]
  },
  {
   "cell_type": "code",
   "execution_count": 170,
   "metadata": {},
   "outputs": [
    {
     "name": "stderr",
     "output_type": "stream",
     "text": [
      "/Users/siva/anaconda3/lib/python3.6/site-packages/plotly/offline/offline.py:459: UserWarning:\n",
      "\n",
      "Your filename `line-mode` didn't end with .html. Adding .html to the end of your file.\n",
      "\n"
     ]
    },
    {
     "data": {
      "text/plain": [
       "'file:///Users/siva/Documents/Code/Pandas/line-mode.html'"
      ]
     },
     "execution_count": 170,
     "metadata": {},
     "output_type": "execute_result"
    }
   ],
   "source": [
    "import plotly.plotly as py\n",
    "import plotly.graph_objs as go\n",
    "\n",
    "# Create random data with numpy\n",
    "import numpy as np\n",
    "\n",
    "# Create traces\n",
    "trace0 = go.Scatter(\n",
    "    x=production_t.index, y=production_t[\"Mobile Handsets\"],\n",
    "    mode = 'lines',\n",
    "    name = 'Mobile Handsets'\n",
    ")\n",
    "trace1 = go.Scatter(\n",
    "    x=production_t.index, y=production_t[\"Sub-Total (Software)\"],\n",
    "    mode = 'lines+markers',\n",
    "    name = 'Sub-Total (Software)'\n",
    ")\n",
    "trace2 = go.Scatter(\n",
    "    x=production_t.index, y=production_t[\"Software for Exports\"],\n",
    "    mode = 'markers',\n",
    "    name = 'Software for Exports'\n",
    ")\n",
    "\n",
    "trace3 = go.Scatter(\n",
    "    x=production_t.index, y=production_t[\"Consumer Electronics\"],\n",
    "    mode = 'lines',\n",
    "    name = 'Consumer Electronics'\n",
    ")\n",
    "trace4 = go.Scatter(\n",
    "    x=production_t.index, y=production_t[\"Industrial Electronics\"],\n",
    "    mode = 'lines+markers',\n",
    "    name = 'Industrial Electronics'\n",
    ")\n",
    "trace5 = go.Scatter(\n",
    "    x=production_t.index, y=production_t[\"Computer Hardware\"],\n",
    "    mode = 'markers',\n",
    "    name = 'Computer Hardware'\n",
    ")\n",
    "trace6 = go.Scatter(\n",
    "    x=production_t.index, y=production_t[\"Strategic Electronics\"],\n",
    "    mode = 'lines+markers',\n",
    "    name = 'Strategic Electronics'\n",
    ")\n",
    "trace7 = go.Scatter(\n",
    "    x=production_t.index, y=production_t[\"Electronics Components\"],\n",
    "    mode = 'markers',\n",
    "    name = 'Electronics Components'\n",
    ")\n",
    "\n",
    "trace9 = go.Scatter(\n",
    "    x=production_t.index, y=production_t[\"Sub-Total (Hardware)\"],\n",
    "    mode = 'lines+markers',\n",
    "    name = 'Sub-Total (Hardware)'\n",
    ")\n",
    "trace10 = go.Scatter(\n",
    "    x=production_t.index, y=production_t[\"Domestic Software\"],\n",
    "    mode = 'markers',\n",
    "    name = 'Domestic Software'\n",
    ")\n",
    "\n",
    "\n",
    "\n",
    "data = [trace0, trace1, trace2,trace3, trace4, trace5,trace6, trace7,trace9,trace10]\n",
    "\n",
    "plotly.offline.plot(data, filename='line-mode')"
   ]
  },
  {
   "cell_type": "code",
   "execution_count": 1,
   "metadata": {},
   "outputs": [
    {
     "ename": "NameError",
     "evalue": "name 'df' is not defined",
     "output_type": "error",
     "traceback": [
      "\u001b[0;31m---------------------------------------------------------------------------\u001b[0m",
      "\u001b[0;31mNameError\u001b[0m                                 Traceback (most recent call last)",
      "\u001b[0;32m<ipython-input-1-7616e255d47b>\u001b[0m in \u001b[0;36m<module>\u001b[0;34m()\u001b[0m\n\u001b[1;32m      4\u001b[0m \u001b[0;34m\u001b[0m\u001b[0m\n\u001b[1;32m      5\u001b[0m \u001b[0;34m\u001b[0m\u001b[0m\n\u001b[0;32m----> 6\u001b[0;31m \u001b[0mmobile_data\u001b[0m \u001b[0;34m=\u001b[0m \u001b[0;34m[\u001b[0m\u001b[0mgo\u001b[0m\u001b[0;34m.\u001b[0m\u001b[0mBar\u001b[0m\u001b[0;34m(\u001b[0m\u001b[0mx\u001b[0m\u001b[0;34m=\u001b[0m\u001b[0mdf\u001b[0m\u001b[0;34m.\u001b[0m\u001b[0mindex\u001b[0m\u001b[0;34m,\u001b[0m \u001b[0my\u001b[0m\u001b[0;34m=\u001b[0m\u001b[0mdf\u001b[0m\u001b[0;34m[\u001b[0m\u001b[0;34m\"Mobile Handsets\"\u001b[0m\u001b[0;34m]\u001b[0m\u001b[0;34m)\u001b[0m\u001b[0;34m]\u001b[0m\u001b[0;34m\u001b[0m\u001b[0m\n\u001b[0m\u001b[1;32m      7\u001b[0m \u001b[0;34m\u001b[0m\u001b[0m\n\u001b[1;32m      8\u001b[0m \u001b[0mprint\u001b[0m\u001b[0;34m(\u001b[0m\u001b[0mmobile_data\u001b[0m\u001b[0;34m)\u001b[0m\u001b[0;34m\u001b[0m\u001b[0m\n",
      "\u001b[0;31mNameError\u001b[0m: name 'df' is not defined"
     ]
    }
   ],
   "source": [
    "import plotly\n",
    "from plotly.graph_objs import Scatter, Layout\n",
    "import plotly.graph_objs as go\n",
    "\n",
    "\n",
    "mobile_data = [go.Bar(x=df.index, y=df[\"Mobile Handsets\"])]\n",
    "\n",
    "print(mobile_data)\n",
    "\n",
    "plotly.offline.plot({ 'data': mobile_data,\n",
    "            'layout': {\n",
    "               'title': 'Mobile Production India',\n",
    "               'xaxis': {\n",
    "                 'title': 'Year'},\n",
    "               'yaxis': {\n",
    "                'title': 'Sales '}\n",
    "        }})\n"
   ]
  },
  {
   "cell_type": "code",
   "execution_count": 158,
   "metadata": {},
   "outputs": [
    {
     "data": {
      "text/plain": [
       "2000-01     4500\n",
       "2001-02     4500\n",
       "2002-03     4800\n",
       "2003-04     5350\n",
       "2004-05     4800\n",
       "2005-06     7000\n",
       "2006-07     9500\n",
       "2007-08    18700\n",
       "2008-09    26600\n",
       "2009-10    31000\n",
       "2010-11    35400\n",
       "2011-12    40500\n",
       "2012-13    34600\n",
       "2013-14    26650\n",
       "2014-15    18900\n",
       "Name: Mobile Handsets, dtype: object"
      ]
     },
     "execution_count": 158,
     "metadata": {},
     "output_type": "execute_result"
    }
   ],
   "source": [
    "df[\"Mobile Handsets\"]"
   ]
  },
  {
   "cell_type": "code",
   "execution_count": 129,
   "metadata": {},
   "outputs": [
    {
     "name": "stderr",
     "output_type": "stream",
     "text": [
      "/Users/siva/anaconda3/lib/python3.6/site-packages/plotly/offline/offline.py:459: UserWarning:\n",
      "\n",
      "Your filename `axes-ticks` didn't end with .html. Adding .html to the end of your file.\n",
      "\n"
     ]
    },
    {
     "data": {
      "text/plain": [
       "'file:///Users/siva/Documents/Code/Pandas/axes-ticks.html'"
      ]
     },
     "execution_count": 129,
     "metadata": {},
     "output_type": "execute_result"
    }
   ],
   "source": []
  },
  {
   "cell_type": "code",
   "execution_count": 180,
   "metadata": {
    "collapsed": true
   },
   "outputs": [],
   "source": [
    "import seaborn as sns\n",
    "sns.set(color_codes=True)\n",
    "\n",
    "%matplotlib inline\n"
   ]
  },
  {
   "cell_type": "code",
   "execution_count": 186,
   "metadata": {},
   "outputs": [
    {
     "data": {
      "text/plain": [
       "<matplotlib.axes._subplots.AxesSubplot at 0x1a19f67e48>"
      ]
     },
     "execution_count": 186,
     "metadata": {},
     "output_type": "execute_result"
    },
    {
     "data": {
      "image/png": "[encoded data removed]",
      "text/plain": [
       "<matplotlib.figure.Figure at 0x1a19f5d390>"
      ]
     },
     "metadata": {},
     "output_type": "display_data"
    }
   ],
   "source": [
    "sns.distplot(mobile_t)\n"
   ]
  },
  {
   "cell_type": "code",
   "execution_count": 188,
   "metadata": {},
   "outputs": [
    {
     "data": {
      "text/html": [
       "<div>\n",
       "<style>\n",
       "    .dataframe thead tr:only-child th {\n",
       "        text-align: right;\n",
       "    }\n",
       "\n",
       "    .dataframe thead th {\n",
       "        text-align: left;\n",
       "    }\n",
       "\n",
       "    .dataframe tbody tr th {\n",
       "        vertical-align: top;\n",
       "    }\n",
       "</style>\n",
       "<table border=\"1\" class=\"dataframe\">\n",
       "  <thead>\n",
       "    <tr style=\"text-align: right;\">\n",
       "      <th>Item</th>\n",
       "      <th>Mobile Handsets</th>\n",
       "    </tr>\n",
       "  </thead>\n",
       "  <tbody>\n",
       "    <tr>\n",
       "      <th>2000-01</th>\n",
       "      <td>4500</td>\n",
       "    </tr>\n",
       "    <tr>\n",
       "      <th>2001-02</th>\n",
       "      <td>4500</td>\n",
       "    </tr>\n",
       "    <tr>\n",
       "      <th>2002-03</th>\n",
       "      <td>4800</td>\n",
       "    </tr>\n",
       "    <tr>\n",
       "      <th>2003-04</th>\n",
       "      <td>5350</td>\n",
       "    </tr>\n",
       "    <tr>\n",
       "      <th>2004-05</th>\n",
       "      <td>4800</td>\n",
       "    </tr>\n",
       "    <tr>\n",
       "      <th>2005-06</th>\n",
       "      <td>7000</td>\n",
       "    </tr>\n",
       "    <tr>\n",
       "      <th>2006-07</th>\n",
       "      <td>9500</td>\n",
       "    </tr>\n",
       "    <tr>\n",
       "      <th>2007-08</th>\n",
       "      <td>18700</td>\n",
       "    </tr>\n",
       "    <tr>\n",
       "      <th>2008-09</th>\n",
       "      <td>26600</td>\n",
       "    </tr>\n",
       "    <tr>\n",
       "      <th>2009-10</th>\n",
       "      <td>31000</td>\n",
       "    </tr>\n",
       "    <tr>\n",
       "      <th>2010-11</th>\n",
       "      <td>35400</td>\n",
       "    </tr>\n",
       "    <tr>\n",
       "      <th>2011-12</th>\n",
       "      <td>40500</td>\n",
       "    </tr>\n",
       "    <tr>\n",
       "      <th>2012-13</th>\n",
       "      <td>34600</td>\n",
       "    </tr>\n",
       "    <tr>\n",
       "      <th>2013-14</th>\n",
       "      <td>26650</td>\n",
       "    </tr>\n",
       "    <tr>\n",
       "      <th>2014-15</th>\n",
       "      <td>18900</td>\n",
       "    </tr>\n",
       "    <tr>\n",
       "      <th>2015-16</th>\n",
       "      <td>54000</td>\n",
       "    </tr>\n",
       "  </tbody>\n",
       "</table>\n",
       "</div>"
      ],
      "text/plain": [
       "Item     Mobile Handsets\n",
       "2000-01             4500\n",
       "2001-02             4500\n",
       "2002-03             4800\n",
       "2003-04             5350\n",
       "2004-05             4800\n",
       "2005-06             7000\n",
       "2006-07             9500\n",
       "2007-08            18700\n",
       "2008-09            26600\n",
       "2009-10            31000\n",
       "2010-11            35400\n",
       "2011-12            40500\n",
       "2012-13            34600\n",
       "2013-14            26650\n",
       "2014-15            18900\n",
       "2015-16            54000"
      ]
     },
     "execution_count": 188,
     "metadata": {},
     "output_type": "execute_result"
    }
   ],
   "source": [
    "mobile_t"
   ]
  },
  {
   "cell_type": "code",
   "execution_count": 190,
   "metadata": {},
   "outputs": [
    {
     "data": {
      "image/png": "[encoded data removed]",
      "text/plain": [
       "<matplotlib.figure.Figure at 0x1a1a1eb828>"
      ]
     },
     "metadata": {},
     "output_type": "display_data"
    }
   ],
   "source": [
    "sns.set_style(\"whitegrid\")\n",
    "sns.boxplot(data=mobile_t);\n"
   ]
  },
  {
   "cell_type": "code",
   "execution_count": null,
   "metadata": {
    "collapsed": true
   },
   "outputs": [],
   "source": []
  }
 ],
 "metadata": {
  "kernelspec": {
   "display_name": "Python 3",
   "language": "python",
   "name": "python3"
  },
  "language_info": {
   "codemirror_mode": {
    "name": "ipython",
    "version": 3
   },
   "file_extension": ".py",
   "mimetype": "text/x-python",
   "name": "python",
   "nbconvert_exporter": "python",
   "pygments_lexer": "ipython3",
   "version": "3.6.4"
  }
 },
 "nbformat": 4,
 "nbformat_minor": 2
}
