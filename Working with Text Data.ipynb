{
 "cells": [
  {
   "cell_type": "code",
   "execution_count": 9,
   "metadata": {
    "collapsed": true
   },
   "outputs": [],
   "source": [
    "import pandas as pd"
   ]
  },
  {
   "cell_type": "code",
   "execution_count": 10,
   "metadata": {},
   "outputs": [
    {
     "data": {
      "text/html": [
       "<div>\n",
       "<style>\n",
       "    .dataframe thead tr:only-child th {\n",
       "        text-align: right;\n",
       "    }\n",
       "\n",
       "    .dataframe thead th {\n",
       "        text-align: left;\n",
       "    }\n",
       "\n",
       "    .dataframe tbody tr th {\n",
       "        vertical-align: top;\n",
       "    }\n",
       "</style>\n",
       "<table border=\"1\" class=\"dataframe\">\n",
       "  <thead>\n",
       "    <tr style=\"text-align: right;\">\n",
       "      <th></th>\n",
       "      <th>Name</th>\n",
       "      <th>Position Title</th>\n",
       "      <th>Department</th>\n",
       "      <th>Employee Annual Salary</th>\n",
       "    </tr>\n",
       "  </thead>\n",
       "  <tbody>\n",
       "    <tr>\n",
       "      <th>0</th>\n",
       "      <td>AARON,  ELVIA J</td>\n",
       "      <td>WATER RATE TAKER</td>\n",
       "      <td>WATER MGMNT</td>\n",
       "      <td>$90744.00</td>\n",
       "    </tr>\n",
       "    <tr>\n",
       "      <th>1</th>\n",
       "      <td>AARON,  JEFFERY M</td>\n",
       "      <td>POLICE OFFICER</td>\n",
       "      <td>POLICE</td>\n",
       "      <td>$84450.00</td>\n",
       "    </tr>\n",
       "    <tr>\n",
       "      <th>2</th>\n",
       "      <td>AARON,  KARINA</td>\n",
       "      <td>POLICE OFFICER</td>\n",
       "      <td>POLICE</td>\n",
       "      <td>$84450.00</td>\n",
       "    </tr>\n",
       "    <tr>\n",
       "      <th>3</th>\n",
       "      <td>AARON,  KIMBERLEI R</td>\n",
       "      <td>CHIEF CONTRACT EXPEDITER</td>\n",
       "      <td>GENERAL SERVICES</td>\n",
       "      <td>$89880.00</td>\n",
       "    </tr>\n",
       "    <tr>\n",
       "      <th>4</th>\n",
       "      <td>ABAD JR,  VICENTE M</td>\n",
       "      <td>CIVIL ENGINEER IV</td>\n",
       "      <td>WATER MGMNT</td>\n",
       "      <td>$106836.00</td>\n",
       "    </tr>\n",
       "  </tbody>\n",
       "</table>\n",
       "</div>"
      ],
      "text/plain": [
       "                  Name            Position Title        Department  \\\n",
       "0      AARON,  ELVIA J          WATER RATE TAKER       WATER MGMNT   \n",
       "1    AARON,  JEFFERY M            POLICE OFFICER            POLICE   \n",
       "2       AARON,  KARINA            POLICE OFFICER            POLICE   \n",
       "3  AARON,  KIMBERLEI R  CHIEF CONTRACT EXPEDITER  GENERAL SERVICES   \n",
       "4  ABAD JR,  VICENTE M         CIVIL ENGINEER IV       WATER MGMNT   \n",
       "\n",
       "  Employee Annual Salary  \n",
       "0              $90744.00  \n",
       "1              $84450.00  \n",
       "2              $84450.00  \n",
       "3              $89880.00  \n",
       "4             $106836.00  "
      ]
     },
     "execution_count": 10,
     "metadata": {},
     "output_type": "execute_result"
    }
   ],
   "source": [
    "chicago = pd.read_csv(\"chicago.csv\")\n",
    "chicago[\"Department\"] = chicago[\"Department\"].astype(\"category\")\n",
    "chicago.head()"
   ]
  },
  {
   "cell_type": "code",
   "execution_count": 8,
   "metadata": {},
   "outputs": [
    {
     "name": "stdout",
     "output_type": "stream",
     "text": [
      "<class 'pandas.core.frame.DataFrame'>\n",
      "RangeIndex: 32063 entries, 0 to 32062\n",
      "Data columns (total 4 columns):\n",
      "Name                      32062 non-null object\n",
      "Position Title            32062 non-null object\n",
      "Department                32062 non-null category\n",
      "Employee Annual Salary    32062 non-null object\n",
      "dtypes: category(1), object(3)\n",
      "memory usage: 784.4+ KB\n"
     ]
    }
   ],
   "source": [
    "chicago.info()"
   ]
  },
  {
   "cell_type": "code",
   "execution_count": 7,
   "metadata": {
    "collapsed": true
   },
   "outputs": [],
   "source": [
    "chicago[\"Department\"] = chicago[\"Department\"].astype(\"category\")"
   ]
  },
  {
   "cell_type": "code",
   "execution_count": 9,
   "metadata": {},
   "outputs": [
    {
     "data": {
      "text/plain": [
       "'hello world'"
      ]
     },
     "execution_count": 9,
     "metadata": {},
     "output_type": "execute_result"
    }
   ],
   "source": [
    "\"HELLO WORLD\".lower()"
   ]
  },
  {
   "cell_type": "code",
   "execution_count": 11,
   "metadata": {},
   "outputs": [
    {
     "data": {
      "text/plain": [
       "0                 aaron,  elvia j\n",
       "1               aaron,  jeffery m\n",
       "2                  aaron,  karina\n",
       "3             aaron,  kimberlei r\n",
       "4             abad jr,  vicente m\n",
       "5                 abarca,  anabel\n",
       "6               abarca,  emmanuel\n",
       "7               abascal,  reece e\n",
       "8            abbasi,  christopher\n",
       "9           abbatacola,  robert j\n",
       "10          abbatemarco,  james j\n",
       "11               abbate,  terry m\n",
       "12               abbott,  betty l\n",
       "13              abbott,  lynise m\n",
       "14         abbruzzese,  william j\n",
       "15                abdallah,  zaid\n",
       "16          abdelhadi,  abdalmahd\n",
       "17            abdellatif,  aref r\n",
       "18             abdelmajeid,  aziz\n",
       "19            abdollahzadeh,  ali\n",
       "20       abdul-karim,  muhammad a\n",
       "21            abdullah,  daniel n\n",
       "22               abdullah,  kevin\n",
       "23           abdullah,  lakenya n\n",
       "24            abdullah,  rashad j\n",
       "25           abdulsattar,  mudhar\n",
       "26           abdul-shakur,  tahir\n",
       "27         abdulwahab,  abuubaida\n",
       "28              abejero,  jason v\n",
       "29        abercrombie iv,  earl s\n",
       "                   ...           \n",
       "32033             zuniga,  juan m\n",
       "32034              zuniga,  oscar\n",
       "32035             zuniga,  ronald\n",
       "32036             zuniga,  thomas\n",
       "32037            zuniga,  vicente\n",
       "32038                 zuno,  erik\n",
       "32039              zupan,  bill m\n",
       "32040            zupancic,  kelly\n",
       "32041          zurawski,  carol a\n",
       "32042          zurawski,  jeffrey\n",
       "32043            zurawski,  mac z\n",
       "32044           zurawski,  mary e\n",
       "32045             zurek,  francis\n",
       "32046              zurek,  mary h\n",
       "32047             zurita,  adriel\n",
       "32048             zvanja,  tina m\n",
       "32049      zwarycz mann,  irene a\n",
       "32050          zwarycz,  thomas j\n",
       "32051          zwiesler,  matthew\n",
       "32052            zwit,  jeffrey j\n",
       "32053         zwolfer,  matthew w\n",
       "32054              zych,  mateusz\n",
       "32055               zydek,  bryan\n",
       "32056            zygadlo,  john p\n",
       "32057         zygadlo,  michael j\n",
       "32058          zygowicz,  peter j\n",
       "32059           zymantas,  mark e\n",
       "32060         zyrkowski,  carlo e\n",
       "32061         zyskowski,  dariusz\n",
       "32062                         NaN\n",
       "Name: Name, Length: 32063, dtype: object"
      ]
     },
     "execution_count": 11,
     "metadata": {},
     "output_type": "execute_result"
    }
   ],
   "source": [
    "chicago[\"Name\"].str.lower()"
   ]
  },
  {
   "cell_type": "code",
   "execution_count": 12,
   "metadata": {},
   "outputs": [
    {
     "data": {
      "text/plain": [
       "0                 Aaron,  Elvia J\n",
       "1               Aaron,  Jeffery M\n",
       "2                  Aaron,  Karina\n",
       "3             Aaron,  Kimberlei R\n",
       "4             Abad Jr,  Vicente M\n",
       "5                 Abarca,  Anabel\n",
       "6               Abarca,  Emmanuel\n",
       "7               Abascal,  Reece E\n",
       "8            Abbasi,  Christopher\n",
       "9           Abbatacola,  Robert J\n",
       "10          Abbatemarco,  James J\n",
       "11               Abbate,  Terry M\n",
       "12               Abbott,  Betty L\n",
       "13              Abbott,  Lynise M\n",
       "14         Abbruzzese,  William J\n",
       "15                Abdallah,  Zaid\n",
       "16          Abdelhadi,  Abdalmahd\n",
       "17            Abdellatif,  Aref R\n",
       "18             Abdelmajeid,  Aziz\n",
       "19            Abdollahzadeh,  Ali\n",
       "20       Abdul-Karim,  Muhammad A\n",
       "21            Abdullah,  Daniel N\n",
       "22               Abdullah,  Kevin\n",
       "23           Abdullah,  Lakenya N\n",
       "24            Abdullah,  Rashad J\n",
       "25           Abdulsattar,  Mudhar\n",
       "26           Abdul-Shakur,  Tahir\n",
       "27         Abdulwahab,  Abuubaida\n",
       "28              Abejero,  Jason V\n",
       "29        Abercrombie Iv,  Earl S\n",
       "                   ...           \n",
       "32033             Zuniga,  Juan M\n",
       "32034              Zuniga,  Oscar\n",
       "32035             Zuniga,  Ronald\n",
       "32036             Zuniga,  Thomas\n",
       "32037            Zuniga,  Vicente\n",
       "32038                 Zuno,  Erik\n",
       "32039              Zupan,  Bill M\n",
       "32040            Zupancic,  Kelly\n",
       "32041          Zurawski,  Carol A\n",
       "32042          Zurawski,  Jeffrey\n",
       "32043            Zurawski,  Mac Z\n",
       "32044           Zurawski,  Mary E\n",
       "32045             Zurek,  Francis\n",
       "32046              Zurek,  Mary H\n",
       "32047             Zurita,  Adriel\n",
       "32048             Zvanja,  Tina M\n",
       "32049      Zwarycz Mann,  Irene A\n",
       "32050          Zwarycz,  Thomas J\n",
       "32051          Zwiesler,  Matthew\n",
       "32052            Zwit,  Jeffrey J\n",
       "32053         Zwolfer,  Matthew W\n",
       "32054              Zych,  Mateusz\n",
       "32055               Zydek,  Bryan\n",
       "32056            Zygadlo,  John P\n",
       "32057         Zygadlo,  Michael J\n",
       "32058          Zygowicz,  Peter J\n",
       "32059           Zymantas,  Mark E\n",
       "32060         Zyrkowski,  Carlo E\n",
       "32061         Zyskowski,  Dariusz\n",
       "32062                         NaN\n",
       "Name: Name, Length: 32063, dtype: object"
      ]
     },
     "execution_count": 12,
     "metadata": {},
     "output_type": "execute_result"
    }
   ],
   "source": [
    "chicago[\"Name\"].str.title()"
   ]
  },
  {
   "cell_type": "code",
   "execution_count": 13,
   "metadata": {},
   "outputs": [
    {
     "data": {
      "text/plain": [
       "0        11.0\n",
       "1         6.0\n",
       "2         6.0\n",
       "3        16.0\n",
       "4        11.0\n",
       "5        12.0\n",
       "6        13.0\n",
       "7         4.0\n",
       "8        12.0\n",
       "9         8.0\n",
       "10        4.0\n",
       "11        6.0\n",
       "12       16.0\n",
       "13        6.0\n",
       "14        4.0\n",
       "15        6.0\n",
       "16        6.0\n",
       "17        4.0\n",
       "18        6.0\n",
       "19        4.0\n",
       "20       11.0\n",
       "21        4.0\n",
       "22        4.0\n",
       "23        4.0\n",
       "24       16.0\n",
       "25       11.0\n",
       "26       13.0\n",
       "27       16.0\n",
       "28        6.0\n",
       "29        4.0\n",
       "         ... \n",
       "32033     6.0\n",
       "32034     6.0\n",
       "32035     6.0\n",
       "32036    13.0\n",
       "32037     4.0\n",
       "32038    11.0\n",
       "32039     4.0\n",
       "32040     6.0\n",
       "32041     4.0\n",
       "32042    16.0\n",
       "32043    13.0\n",
       "32044     6.0\n",
       "32045     4.0\n",
       "32046     7.0\n",
       "32047     6.0\n",
       "32048     3.0\n",
       "32049     4.0\n",
       "32050    11.0\n",
       "32051     8.0\n",
       "32052     6.0\n",
       "32053     4.0\n",
       "32054     6.0\n",
       "32055     6.0\n",
       "32056    16.0\n",
       "32057    16.0\n",
       "32058     6.0\n",
       "32059     6.0\n",
       "32060     6.0\n",
       "32061     4.0\n",
       "32062     NaN\n",
       "Name: Department, Length: 32063, dtype: float64"
      ]
     },
     "execution_count": 13,
     "metadata": {},
     "output_type": "execute_result"
    }
   ],
   "source": [
    "chicago[\"Department\"].str.len()"
   ]
  },
  {
   "cell_type": "code",
   "execution_count": 14,
   "metadata": {},
   "outputs": [
    {
     "data": {
      "text/plain": [
       "'Hetto Wortd'"
      ]
     },
     "execution_count": 14,
     "metadata": {},
     "output_type": "execute_result"
    }
   ],
   "source": [
    "\"Hello World\".replace(\"l\",\"t\")"
   ]
  },
  {
   "cell_type": "code",
   "execution_count": 23,
   "metadata": {},
   "outputs": [
    {
     "data": {
      "text/html": [
       "<div>\n",
       "<style>\n",
       "    .dataframe thead tr:only-child th {\n",
       "        text-align: right;\n",
       "    }\n",
       "\n",
       "    .dataframe thead th {\n",
       "        text-align: left;\n",
       "    }\n",
       "\n",
       "    .dataframe tbody tr th {\n",
       "        vertical-align: top;\n",
       "    }\n",
       "</style>\n",
       "<table border=\"1\" class=\"dataframe\">\n",
       "  <thead>\n",
       "    <tr style=\"text-align: right;\">\n",
       "      <th></th>\n",
       "      <th>Name</th>\n",
       "      <th>Position Title</th>\n",
       "      <th>Department</th>\n",
       "      <th>Employee Annual Salary</th>\n",
       "    </tr>\n",
       "  </thead>\n",
       "  <tbody>\n",
       "    <tr>\n",
       "      <th>0</th>\n",
       "      <td>AARON,  ELVIA J</td>\n",
       "      <td>WATER RATE TAKER</td>\n",
       "      <td>WATER MGMNT</td>\n",
       "      <td>$90744.00</td>\n",
       "    </tr>\n",
       "    <tr>\n",
       "      <th>1</th>\n",
       "      <td>AARON,  JEFFERY M</td>\n",
       "      <td>POLICE OFFICER</td>\n",
       "      <td>POLICE</td>\n",
       "      <td>$84450.00</td>\n",
       "    </tr>\n",
       "    <tr>\n",
       "      <th>2</th>\n",
       "      <td>AARON,  KARINA</td>\n",
       "      <td>POLICE OFFICER</td>\n",
       "      <td>POLICE</td>\n",
       "      <td>$84450.00</td>\n",
       "    </tr>\n",
       "    <tr>\n",
       "      <th>3</th>\n",
       "      <td>AARON,  KIMBERLEI R</td>\n",
       "      <td>CHIEF CONTRACT EXPEDITER</td>\n",
       "      <td>GENERAL SERVICES</td>\n",
       "      <td>$89880.00</td>\n",
       "    </tr>\n",
       "    <tr>\n",
       "      <th>4</th>\n",
       "      <td>ABAD JR,  VICENTE M</td>\n",
       "      <td>CIVIL ENGINEER IV</td>\n",
       "      <td>WATER MGMNT</td>\n",
       "      <td>$106836.00</td>\n",
       "    </tr>\n",
       "  </tbody>\n",
       "</table>\n",
       "</div>"
      ],
      "text/plain": [
       "                  Name            Position Title        Department  \\\n",
       "0      AARON,  ELVIA J          WATER RATE TAKER       WATER MGMNT   \n",
       "1    AARON,  JEFFERY M            POLICE OFFICER            POLICE   \n",
       "2       AARON,  KARINA            POLICE OFFICER            POLICE   \n",
       "3  AARON,  KIMBERLEI R  CHIEF CONTRACT EXPEDITER  GENERAL SERVICES   \n",
       "4  ABAD JR,  VICENTE M         CIVIL ENGINEER IV       WATER MGMNT   \n",
       "\n",
       "  Employee Annual Salary  \n",
       "0              $90744.00  \n",
       "1              $84450.00  \n",
       "2              $84450.00  \n",
       "3              $89880.00  \n",
       "4             $106836.00  "
      ]
     },
     "execution_count": 23,
     "metadata": {},
     "output_type": "execute_result"
    }
   ],
   "source": [
    "chicago.head()"
   ]
  },
  {
   "cell_type": "code",
   "execution_count": 25,
   "metadata": {
    "collapsed": true
   },
   "outputs": [],
   "source": [
    "chicago[\"Employee Annual Salary\"] = chicago[\"Employee Annual Salary\"].str.replace(\"$\",\"\").astype(float)"
   ]
  },
  {
   "cell_type": "code",
   "execution_count": 7,
   "metadata": {},
   "outputs": [
    {
     "ename": "NameError",
     "evalue": "name 'chicago' is not defined",
     "output_type": "error",
     "traceback": [
      "\u001b[0;31m---------------------------------------------------------------------------\u001b[0m",
      "\u001b[0;31mNameError\u001b[0m                                 Traceback (most recent call last)",
      "\u001b[0;32m<ipython-input-7-ec6098945c11>\u001b[0m in \u001b[0;36m<module>\u001b[0;34m()\u001b[0m\n\u001b[0;32m----> 1\u001b[0;31m \u001b[0mchicago\u001b[0m\u001b[0;34m\u001b[0m\u001b[0m\n\u001b[0m",
      "\u001b[0;31mNameError\u001b[0m: name 'chicago' is not defined"
     ]
    }
   ],
   "source": [
    "chicago"
   ]
  },
  {
   "cell_type": "code",
   "execution_count": 13,
   "metadata": {},
   "outputs": [
    {
     "data": {
      "text/plain": [
       "0                 AARON,  ELVIA J\n",
       "1               AARON,  JEFFERY M\n",
       "2                  AARON,  KARINA\n",
       "3             AARON,  KIMBERLEI R\n",
       "4             ABAD JR,  VICENTE M\n",
       "5                 ABARCA,  ANABEL\n",
       "6               ABARCA,  EMMANUEL\n",
       "7               ABASCAL,  REECE E\n",
       "8            ABBASI,  CHRISTOPHER\n",
       "9           ABBATACOLA,  ROBERT J\n",
       "10          ABBATEMARCO,  JAMES J\n",
       "11               ABBATE,  TERRY M\n",
       "12               ABBOTT,  BETTY L\n",
       "13              ABBOTT,  LYNISE M\n",
       "14         ABBRUZZESE,  WILLIAM J\n",
       "15                ABDALLAH,  ZAID\n",
       "16          ABDELHADI,  ABDALMAHD\n",
       "17            ABDELLATIF,  AREF R\n",
       "18             ABDELMAJEID,  AZIZ\n",
       "19            ABDOLLAHZADEH,  ALI\n",
       "20       ABDUL-KARIM,  MUHAMMAD A\n",
       "21            ABDULLAH,  DANIEL N\n",
       "22               ABDULLAH,  KEVIN\n",
       "23           ABDULLAH,  LAKENYA N\n",
       "24            ABDULLAH,  RASHAD J\n",
       "25           ABDULSATTAR,  MUDHAR\n",
       "26           ABDUL-SHAKUR,  TAHIR\n",
       "27         ABDULWAHAB,  ABUUBAIDA\n",
       "28              ABEJERO,  JASON V\n",
       "29        ABERCROMBIE IV,  EARL S\n",
       "                   ...           \n",
       "32033             ZUNIGA,  JUAN M\n",
       "32034              ZUNIGA,  OSCAR\n",
       "32035             ZUNIGA,  RONALD\n",
       "32036             ZUNIGA,  THOMAS\n",
       "32037            ZUNIGA,  VICENTE\n",
       "32038                 ZUNO,  ERIK\n",
       "32039              ZUPAN,  BILL M\n",
       "32040            ZUPANCIC,  KELLY\n",
       "32041          ZURAWSKI,  CAROL A\n",
       "32042          ZURAWSKI,  JEFFREY\n",
       "32043            ZURAWSKI,  MAC Z\n",
       "32044           ZURAWSKI,  MARY E\n",
       "32045             ZUREK,  FRANCIS\n",
       "32046              ZUREK,  MARY H\n",
       "32047             ZURITA,  ADRIEL\n",
       "32048             ZVANJA,  TINA M\n",
       "32049      ZWARYCZ MANN,  IRENE A\n",
       "32050          ZWARYCZ,  THOMAS J\n",
       "32051          ZWIESLER,  MATTHEW\n",
       "32052            ZWIT,  JEFFREY J\n",
       "32053         ZWOLFER,  MATTHEW W\n",
       "32054              ZYCH,  MATEUSZ\n",
       "32055               ZYDEK,  BRYAN\n",
       "32056            ZYGADLO,  JOHN P\n",
       "32057         ZYGADLO,  MICHAEL J\n",
       "32058          ZYGOWICZ,  PETER J\n",
       "32059           ZYMANTAS,  MARK E\n",
       "32060         ZYRKOWSKI,  CARLO E\n",
       "32061         ZYSKOWSKI,  DARIUSZ\n",
       "32062                         NaN\n",
       "Name: Name, Length: 32063, dtype: object"
      ]
     },
     "execution_count": 13,
     "metadata": {},
     "output_type": "execute_result"
    }
   ],
   "source": [
    "chicago[\"Name\"].str.strip()"
   ]
  },
  {
   "cell_type": "code",
   "execution_count": 26,
   "metadata": {},
   "outputs": [
    {
     "data": {
      "text/html": [
       "<div>\n",
       "<style>\n",
       "    .dataframe thead tr:only-child th {\n",
       "        text-align: right;\n",
       "    }\n",
       "\n",
       "    .dataframe thead th {\n",
       "        text-align: left;\n",
       "    }\n",
       "\n",
       "    .dataframe tbody tr th {\n",
       "        vertical-align: top;\n",
       "    }\n",
       "</style>\n",
       "<table border=\"1\" class=\"dataframe\">\n",
       "  <thead>\n",
       "    <tr style=\"text-align: right;\">\n",
       "      <th></th>\n",
       "      <th>Position Title</th>\n",
       "      <th>Department</th>\n",
       "      <th>Employee Annual Salary</th>\n",
       "    </tr>\n",
       "    <tr>\n",
       "      <th>Name</th>\n",
       "      <th></th>\n",
       "      <th></th>\n",
       "      <th></th>\n",
       "    </tr>\n",
       "  </thead>\n",
       "  <tbody>\n",
       "    <tr>\n",
       "      <th>AARON,  ELVIA J</th>\n",
       "      <td>WATER RATE TAKER</td>\n",
       "      <td>WATER MGMNT</td>\n",
       "      <td>$90744.00</td>\n",
       "    </tr>\n",
       "    <tr>\n",
       "      <th>AARON,  JEFFERY M</th>\n",
       "      <td>POLICE OFFICER</td>\n",
       "      <td>POLICE</td>\n",
       "      <td>$84450.00</td>\n",
       "    </tr>\n",
       "    <tr>\n",
       "      <th>AARON,  KARINA</th>\n",
       "      <td>POLICE OFFICER</td>\n",
       "      <td>POLICE</td>\n",
       "      <td>$84450.00</td>\n",
       "    </tr>\n",
       "    <tr>\n",
       "      <th>AARON,  KIMBERLEI R</th>\n",
       "      <td>CHIEF CONTRACT EXPEDITER</td>\n",
       "      <td>GENERAL SERVICES</td>\n",
       "      <td>$89880.00</td>\n",
       "    </tr>\n",
       "    <tr>\n",
       "      <th>ABAD JR,  VICENTE M</th>\n",
       "      <td>CIVIL ENGINEER IV</td>\n",
       "      <td>WATER MGMNT</td>\n",
       "      <td>$106836.00</td>\n",
       "    </tr>\n",
       "  </tbody>\n",
       "</table>\n",
       "</div>"
      ],
      "text/plain": [
       "                               Position Title        Department  \\\n",
       "Name                                                              \n",
       "AARON,  ELVIA J              WATER RATE TAKER       WATER MGMNT   \n",
       "AARON,  JEFFERY M              POLICE OFFICER            POLICE   \n",
       "AARON,  KARINA                 POLICE OFFICER            POLICE   \n",
       "AARON,  KIMBERLEI R  CHIEF CONTRACT EXPEDITER  GENERAL SERVICES   \n",
       "ABAD JR,  VICENTE M         CIVIL ENGINEER IV       WATER MGMNT   \n",
       "\n",
       "                    Employee Annual Salary  \n",
       "Name                                        \n",
       "AARON,  ELVIA J                  $90744.00  \n",
       "AARON,  JEFFERY M                $84450.00  \n",
       "AARON,  KARINA                   $84450.00  \n",
       "AARON,  KIMBERLEI R              $89880.00  \n",
       "ABAD JR,  VICENTE M             $106836.00  "
      ]
     },
     "execution_count": 26,
     "metadata": {},
     "output_type": "execute_result"
    }
   ],
   "source": [
    "chicago = pd.read_csv(\"chicago.csv\", index_col=\"Name\").dropna(how = \"all\")\n",
    "chicago[\"Department\"] = chicago[\"Department\"].astype(\"category\")\n",
    "chicago.head()"
   ]
  },
  {
   "cell_type": "code",
   "execution_count": 18,
   "metadata": {},
   "outputs": [
    {
     "data": {
      "text/plain": [
       "31776"
      ]
     },
     "execution_count": 18,
     "metadata": {},
     "output_type": "execute_result"
    }
   ],
   "source": [
    "chicago.index.nunique()"
   ]
  },
  {
   "cell_type": "code",
   "execution_count": 21,
   "metadata": {},
   "outputs": [],
   "source": [
    "chicago.index = chicago.index.str.strip().str.title()"
   ]
  },
  {
   "cell_type": "code",
   "execution_count": 24,
   "metadata": {},
   "outputs": [],
   "source": [
    "chicago.columns = chicago.columns.str.title()"
   ]
  },
  {
   "cell_type": "code",
   "execution_count": 25,
   "metadata": {},
   "outputs": [
    {
     "data": {
      "text/html": [
       "<div>\n",
       "<style>\n",
       "    .dataframe thead tr:only-child th {\n",
       "        text-align: right;\n",
       "    }\n",
       "\n",
       "    .dataframe thead th {\n",
       "        text-align: left;\n",
       "    }\n",
       "\n",
       "    .dataframe tbody tr th {\n",
       "        vertical-align: top;\n",
       "    }\n",
       "</style>\n",
       "<table border=\"1\" class=\"dataframe\">\n",
       "  <thead>\n",
       "    <tr style=\"text-align: right;\">\n",
       "      <th></th>\n",
       "      <th>Position Title</th>\n",
       "      <th>Department</th>\n",
       "      <th>Employee Annual Salary</th>\n",
       "    </tr>\n",
       "    <tr>\n",
       "      <th>Name</th>\n",
       "      <th></th>\n",
       "      <th></th>\n",
       "      <th></th>\n",
       "    </tr>\n",
       "  </thead>\n",
       "  <tbody>\n",
       "    <tr>\n",
       "      <th>Aaron,  Elvia J</th>\n",
       "      <td>WATER RATE TAKER</td>\n",
       "      <td>WATER MGMNT</td>\n",
       "      <td>$90744.00</td>\n",
       "    </tr>\n",
       "    <tr>\n",
       "      <th>Aaron,  Jeffery M</th>\n",
       "      <td>POLICE OFFICER</td>\n",
       "      <td>POLICE</td>\n",
       "      <td>$84450.00</td>\n",
       "    </tr>\n",
       "    <tr>\n",
       "      <th>Aaron,  Karina</th>\n",
       "      <td>POLICE OFFICER</td>\n",
       "      <td>POLICE</td>\n",
       "      <td>$84450.00</td>\n",
       "    </tr>\n",
       "    <tr>\n",
       "      <th>Aaron,  Kimberlei R</th>\n",
       "      <td>CHIEF CONTRACT EXPEDITER</td>\n",
       "      <td>GENERAL SERVICES</td>\n",
       "      <td>$89880.00</td>\n",
       "    </tr>\n",
       "    <tr>\n",
       "      <th>Abad Jr,  Vicente M</th>\n",
       "      <td>CIVIL ENGINEER IV</td>\n",
       "      <td>WATER MGMNT</td>\n",
       "      <td>$106836.00</td>\n",
       "    </tr>\n",
       "  </tbody>\n",
       "</table>\n",
       "</div>"
      ],
      "text/plain": [
       "                               Position Title        Department  \\\n",
       "Name                                                              \n",
       "Aaron,  Elvia J              WATER RATE TAKER       WATER MGMNT   \n",
       "Aaron,  Jeffery M              POLICE OFFICER            POLICE   \n",
       "Aaron,  Karina                 POLICE OFFICER            POLICE   \n",
       "Aaron,  Kimberlei R  CHIEF CONTRACT EXPEDITER  GENERAL SERVICES   \n",
       "Abad Jr,  Vicente M         CIVIL ENGINEER IV       WATER MGMNT   \n",
       "\n",
       "                    Employee Annual Salary  \n",
       "Name                                        \n",
       "Aaron,  Elvia J                  $90744.00  \n",
       "Aaron,  Jeffery M                $84450.00  \n",
       "Aaron,  Karina                   $84450.00  \n",
       "Aaron,  Kimberlei R              $89880.00  \n",
       "Abad Jr,  Vicente M             $106836.00  "
      ]
     },
     "execution_count": 25,
     "metadata": {},
     "output_type": "execute_result"
    }
   ],
   "source": [
    "chicago.head()"
   ]
  },
  {
   "cell_type": "code",
   "execution_count": 32,
   "metadata": {},
   "outputs": [
    {
     "data": {
      "text/html": [
       "<div>\n",
       "<style>\n",
       "    .dataframe thead tr:only-child th {\n",
       "        text-align: right;\n",
       "    }\n",
       "\n",
       "    .dataframe thead th {\n",
       "        text-align: left;\n",
       "    }\n",
       "\n",
       "    .dataframe tbody tr th {\n",
       "        vertical-align: top;\n",
       "    }\n",
       "</style>\n",
       "<table border=\"1\" class=\"dataframe\">\n",
       "  <thead>\n",
       "    <tr style=\"text-align: right;\">\n",
       "      <th></th>\n",
       "      <th>Name</th>\n",
       "      <th>Position Title</th>\n",
       "      <th>Department</th>\n",
       "      <th>Employee Annual Salary</th>\n",
       "    </tr>\n",
       "  </thead>\n",
       "  <tbody>\n",
       "    <tr>\n",
       "      <th>0</th>\n",
       "      <td>AARON,  ELVIA J</td>\n",
       "      <td>WATER RATE TAKER</td>\n",
       "      <td>WATER MGMNT</td>\n",
       "      <td>$90744.00</td>\n",
       "    </tr>\n",
       "    <tr>\n",
       "      <th>1</th>\n",
       "      <td>AARON,  JEFFERY M</td>\n",
       "      <td>POLICE OFFICER</td>\n",
       "      <td>POLICE</td>\n",
       "      <td>$84450.00</td>\n",
       "    </tr>\n",
       "    <tr>\n",
       "      <th>2</th>\n",
       "      <td>AARON,  KARINA</td>\n",
       "      <td>POLICE OFFICER</td>\n",
       "      <td>POLICE</td>\n",
       "      <td>$84450.00</td>\n",
       "    </tr>\n",
       "    <tr>\n",
       "      <th>3</th>\n",
       "      <td>AARON,  KIMBERLEI R</td>\n",
       "      <td>CHIEF CONTRACT EXPEDITER</td>\n",
       "      <td>GENERAL SERVICES</td>\n",
       "      <td>$89880.00</td>\n",
       "    </tr>\n",
       "    <tr>\n",
       "      <th>4</th>\n",
       "      <td>ABAD JR,  VICENTE M</td>\n",
       "      <td>CIVIL ENGINEER IV</td>\n",
       "      <td>WATER MGMNT</td>\n",
       "      <td>$106836.00</td>\n",
       "    </tr>\n",
       "  </tbody>\n",
       "</table>\n",
       "</div>"
      ],
      "text/plain": [
       "                  Name            Position Title        Department  \\\n",
       "0      AARON,  ELVIA J          WATER RATE TAKER       WATER MGMNT   \n",
       "1    AARON,  JEFFERY M            POLICE OFFICER            POLICE   \n",
       "2       AARON,  KARINA            POLICE OFFICER            POLICE   \n",
       "3  AARON,  KIMBERLEI R  CHIEF CONTRACT EXPEDITER  GENERAL SERVICES   \n",
       "4  ABAD JR,  VICENTE M         CIVIL ENGINEER IV       WATER MGMNT   \n",
       "\n",
       "  Employee Annual Salary  \n",
       "0              $90744.00  \n",
       "1              $84450.00  \n",
       "2              $84450.00  \n",
       "3              $89880.00  \n",
       "4             $106836.00  "
      ]
     },
     "execution_count": 32,
     "metadata": {},
     "output_type": "execute_result"
    }
   ],
   "source": [
    "chicago = pd.read_csv(\"chicago.csv\").dropna(how = \"all\")\n",
    "chicago[\"Department\"] = chicago[\"Department\"].astype(\"category\")\n",
    "chicago.head()"
   ]
  },
  {
   "cell_type": "code",
   "execution_count": 34,
   "metadata": {},
   "outputs": [
    {
     "data": {
      "text/plain": [
       "Williams           293\n",
       "Johnson            244\n",
       "Smith              241\n",
       "Brown              185\n",
       "Jones              183\n",
       "Rodriguez          171\n",
       "Jackson            136\n",
       "Garcia             130\n",
       "Davis              127\n",
       "Hernandez          110\n",
       "Martinez           108\n",
       "Lopez              106\n",
       "Gonzalez           104\n",
       "Perez              100\n",
       "Wilson              94\n",
       "Rivera              90\n",
       "Thomas              89\n",
       "Anderson            82\n",
       "Torres              81\n",
       "Murphy              80\n",
       "Robinson            79\n",
       "Moore               78\n",
       "Harris              76\n",
       "Sanchez             76\n",
       "Miller              75\n",
       "Lewis               74\n",
       "Taylor              73\n",
       "Martin              72\n",
       "Clark               66\n",
       "White               66\n",
       "                  ... \n",
       "Seymour              1\n",
       "Trieu                1\n",
       "Manjarrez            1\n",
       "Gruenwald            1\n",
       "Pawelczyk            1\n",
       "Macdonald            1\n",
       "Kapetanou            1\n",
       "Zeutschel            1\n",
       "Hendrixson           1\n",
       "Fraser               1\n",
       "Vittorini            1\n",
       "Albright             1\n",
       "Filpi                1\n",
       "Keenan-Renkosia      1\n",
       "Przekwas             1\n",
       "Chaves               1\n",
       "Prskalo              1\n",
       "Echeverri            1\n",
       "Ribot                1\n",
       "Gagliano Jr          1\n",
       "Ammons               1\n",
       "Onayo                1\n",
       "Jurca                1\n",
       "Pascalo              1\n",
       "Andolino             1\n",
       "Rashid               1\n",
       "Ciampaglia           1\n",
       "Stillwell            1\n",
       "Dunson               1\n",
       "Staley               1\n",
       "Name: Name, Length: 13829, dtype: int64"
      ]
     },
     "execution_count": 34,
     "metadata": {},
     "output_type": "execute_result"
    }
   ],
   "source": [
    "chicago[\"Name\"].str.split(\",\").str.get(0).str.title().value_counts()"
   ]
  },
  {
   "cell_type": "code",
   "execution_count": null,
   "metadata": {
    "collapsed": true
   },
   "outputs": [],
   "source": []
  },
  {
   "cell_type": "code",
   "execution_count": null,
   "metadata": {
    "collapsed": true
   },
   "outputs": [],
   "source": []
  },
  {
   "cell_type": "code",
   "execution_count": null,
   "metadata": {
    "collapsed": true
   },
   "outputs": [],
   "source": []
  },
  {
   "cell_type": "code",
   "execution_count": null,
   "metadata": {
    "collapsed": true
   },
   "outputs": [],
   "source": []
  },
  {
   "cell_type": "code",
   "execution_count": null,
   "metadata": {
    "collapsed": true
   },
   "outputs": [],
   "source": []
  },
  {
   "cell_type": "code",
   "execution_count": null,
   "metadata": {
    "collapsed": true
   },
   "outputs": [],
   "source": []
  },
  {
   "cell_type": "code",
   "execution_count": null,
   "metadata": {
    "collapsed": true
   },
   "outputs": [],
   "source": []
  },
  {
   "cell_type": "code",
   "execution_count": null,
   "metadata": {
    "collapsed": true
   },
   "outputs": [],
   "source": []
  },
  {
   "cell_type": "code",
   "execution_count": null,
   "metadata": {
    "collapsed": true
   },
   "outputs": [],
   "source": []
  },
  {
   "cell_type": "code",
   "execution_count": null,
   "metadata": {
    "collapsed": true
   },
   "outputs": [],
   "source": []
  },
  {
   "cell_type": "code",
   "execution_count": null,
   "metadata": {
    "collapsed": true
   },
   "outputs": [],
   "source": []
  }
 ],
 "metadata": {
  "kernelspec": {
   "display_name": "Python 3",
   "language": "python",
   "name": "python3"
  }
 },
 "nbformat": 4,
 "nbformat_minor": 2
}
