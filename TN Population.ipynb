{
 "cells": [
  {
   "cell_type": "code",
   "execution_count": 1,
   "metadata": {
    "collapsed": true
   },
   "outputs": [],
   "source": [
    "import pandas as pd"
   ]
  },
  {
   "cell_type": "code",
   "execution_count": 24,
   "metadata": {},
   "outputs": [
    {
     "data": {
      "text/html": [
       "<div>\n",
       "<style>\n",
       "    .dataframe thead tr:only-child th {\n",
       "        text-align: right;\n",
       "    }\n",
       "\n",
       "    .dataframe thead th {\n",
       "        text-align: left;\n",
       "    }\n",
       "\n",
       "    .dataframe tbody tr th {\n",
       "        vertical-align: top;\n",
       "    }\n",
       "</style>\n",
       "<table border=\"1\" class=\"dataframe\">\n",
       "  <thead>\n",
       "    <tr style=\"text-align: right;\">\n",
       "      <th></th>\n",
       "      <th>Population (in Lakhs)</th>\n",
       "      <th>Percentage of Literacy Total</th>\n",
       "      <th>Percentage of Literacy Male</th>\n",
       "      <th>Percentage of Literacy Female</th>\n",
       "    </tr>\n",
       "    <tr>\n",
       "      <th>Census Year</th>\n",
       "      <th></th>\n",
       "      <th></th>\n",
       "      <th></th>\n",
       "      <th></th>\n",
       "    </tr>\n",
       "  </thead>\n",
       "  <tbody>\n",
       "    <tr>\n",
       "      <th>1951</th>\n",
       "      <td>301.2</td>\n",
       "      <td>20.80</td>\n",
       "      <td>31.70</td>\n",
       "      <td>10.10</td>\n",
       "    </tr>\n",
       "    <tr>\n",
       "      <th>1961</th>\n",
       "      <td>336.9</td>\n",
       "      <td>36.39</td>\n",
       "      <td>51.59</td>\n",
       "      <td>21.06</td>\n",
       "    </tr>\n",
       "    <tr>\n",
       "      <th>1971</th>\n",
       "      <td>412.0</td>\n",
       "      <td>45.40</td>\n",
       "      <td>59.54</td>\n",
       "      <td>30.92</td>\n",
       "    </tr>\n",
       "    <tr>\n",
       "      <th>1981</th>\n",
       "      <td>484.1</td>\n",
       "      <td>54.39</td>\n",
       "      <td>68.05</td>\n",
       "      <td>40.43</td>\n",
       "    </tr>\n",
       "    <tr>\n",
       "      <th>1991</th>\n",
       "      <td>558.6</td>\n",
       "      <td>62.66</td>\n",
       "      <td>73.75</td>\n",
       "      <td>51.33</td>\n",
       "    </tr>\n",
       "    <tr>\n",
       "      <th>2001</th>\n",
       "      <td>624.1</td>\n",
       "      <td>73.47</td>\n",
       "      <td>82.33</td>\n",
       "      <td>64.55</td>\n",
       "    </tr>\n",
       "    <tr>\n",
       "      <th>2011</th>\n",
       "      <td>721.4</td>\n",
       "      <td>80.09</td>\n",
       "      <td>86.77</td>\n",
       "      <td>73.44</td>\n",
       "    </tr>\n",
       "  </tbody>\n",
       "</table>\n",
       "</div>"
      ],
      "text/plain": [
       "             Population (in Lakhs)  Percentage of Literacy Total  \\\n",
       "Census Year                                                        \n",
       "1951                         301.2                         20.80   \n",
       "1961                         336.9                         36.39   \n",
       "1971                         412.0                         45.40   \n",
       "1981                         484.1                         54.39   \n",
       "1991                         558.6                         62.66   \n",
       "2001                         624.1                         73.47   \n",
       "2011                         721.4                         80.09   \n",
       "\n",
       "             Percentage of Literacy Male  Percentage of Literacy Female  \n",
       "Census Year                                                              \n",
       "1951                               31.70                          10.10  \n",
       "1961                               51.59                          21.06  \n",
       "1971                               59.54                          30.92  \n",
       "1981                               68.05                          40.43  \n",
       "1991                               73.75                          51.33  \n",
       "2001                               82.33                          64.55  \n",
       "2011                               86.77                          73.44  "
      ]
     },
     "execution_count": 24,
     "metadata": {},
     "output_type": "execute_result"
    }
   ],
   "source": [
    "literacy = pd.read_csv(\"population_literacyrate.csv\", parse_dates=False, index_col=\"Census Year\")\n",
    "literacy"
   ]
  },
  {
   "cell_type": "code",
   "execution_count": 6,
   "metadata": {},
   "outputs": [
    {
     "data": {
      "text/plain": [
       "Census Year\n",
       "1951    301.2\n",
       "1961    336.9\n",
       "1971    412.0\n",
       "1981    484.1\n",
       "1991    558.6\n",
       "2001    624.1\n",
       "2011    721.4\n",
       "Name: Population (in Lakhs), dtype: float64"
      ]
     },
     "execution_count": 6,
     "metadata": {},
     "output_type": "execute_result"
    }
   ],
   "source": [
    "literacy[\"Population (in Lakhs)\"]"
   ]
  },
  {
   "cell_type": "code",
   "execution_count": 24,
   "metadata": {
    "collapsed": true
   },
   "outputs": [],
   "source": [
    "literacy[\"Percentage of Literacy Total\"] = literacy[\"Percentage of Literacy Total\"].astype(float)\n",
    "literacy['Population (in Lakhs)'] = literacy['Population (in Lakhs)'].astype(float)"
   ]
  },
  {
   "cell_type": "code",
   "execution_count": 14,
   "metadata": {},
   "outputs": [
    {
     "data": {
      "text/html": [
       "<div>\n",
       "<style>\n",
       "    .dataframe thead tr:only-child th {\n",
       "        text-align: right;\n",
       "    }\n",
       "\n",
       "    .dataframe thead th {\n",
       "        text-align: left;\n",
       "    }\n",
       "\n",
       "    .dataframe tbody tr th {\n",
       "        vertical-align: top;\n",
       "    }\n",
       "</style>\n",
       "<table border=\"1\" class=\"dataframe\">\n",
       "  <thead>\n",
       "    <tr style=\"text-align: right;\">\n",
       "      <th></th>\n",
       "      <th>Population (in Lakhs)</th>\n",
       "      <th>Percentage of Literacy Total</th>\n",
       "      <th>Percentage of Literacy Male</th>\n",
       "      <th>Percentage of Literacy Female</th>\n",
       "      <th>Literacy Total</th>\n",
       "      <th>Literacy Male</th>\n",
       "      <th>Literacy Female</th>\n",
       "    </tr>\n",
       "    <tr>\n",
       "      <th>Census Year</th>\n",
       "      <th></th>\n",
       "      <th></th>\n",
       "      <th></th>\n",
       "      <th></th>\n",
       "      <th></th>\n",
       "      <th></th>\n",
       "      <th></th>\n",
       "    </tr>\n",
       "  </thead>\n",
       "  <tbody>\n",
       "    <tr>\n",
       "      <th>1951</th>\n",
       "      <td>301.2</td>\n",
       "      <td>20.80</td>\n",
       "      <td>31.70</td>\n",
       "      <td>10.10</td>\n",
       "      <td>62.64</td>\n",
       "      <td>95.48</td>\n",
       "      <td>30.42</td>\n",
       "    </tr>\n",
       "    <tr>\n",
       "      <th>1961</th>\n",
       "      <td>336.9</td>\n",
       "      <td>36.39</td>\n",
       "      <td>51.59</td>\n",
       "      <td>21.06</td>\n",
       "      <td>122.59</td>\n",
       "      <td>173.80</td>\n",
       "      <td>70.95</td>\n",
       "    </tr>\n",
       "    <tr>\n",
       "      <th>1971</th>\n",
       "      <td>412.0</td>\n",
       "      <td>45.40</td>\n",
       "      <td>59.54</td>\n",
       "      <td>30.92</td>\n",
       "      <td>187.05</td>\n",
       "      <td>245.30</td>\n",
       "      <td>127.39</td>\n",
       "    </tr>\n",
       "    <tr>\n",
       "      <th>1981</th>\n",
       "      <td>484.1</td>\n",
       "      <td>54.39</td>\n",
       "      <td>68.05</td>\n",
       "      <td>40.43</td>\n",
       "      <td>263.30</td>\n",
       "      <td>329.63</td>\n",
       "      <td>195.72</td>\n",
       "    </tr>\n",
       "    <tr>\n",
       "      <th>1991</th>\n",
       "      <td>558.6</td>\n",
       "      <td>62.66</td>\n",
       "      <td>73.75</td>\n",
       "      <td>51.33</td>\n",
       "      <td>350.01</td>\n",
       "      <td>411.96</td>\n",
       "      <td>286.72</td>\n",
       "    </tr>\n",
       "    <tr>\n",
       "      <th>2001</th>\n",
       "      <td>624.1</td>\n",
       "      <td>73.47</td>\n",
       "      <td>82.33</td>\n",
       "      <td>64.55</td>\n",
       "      <td>458.52</td>\n",
       "      <td>513.82</td>\n",
       "      <td>402.86</td>\n",
       "    </tr>\n",
       "    <tr>\n",
       "      <th>2011</th>\n",
       "      <td>721.4</td>\n",
       "      <td>80.09</td>\n",
       "      <td>86.77</td>\n",
       "      <td>73.44</td>\n",
       "      <td>577.77</td>\n",
       "      <td>625.96</td>\n",
       "      <td>529.80</td>\n",
       "    </tr>\n",
       "  </tbody>\n",
       "</table>\n",
       "</div>"
      ],
      "text/plain": [
       "             Population (in Lakhs)  Percentage of Literacy Total  \\\n",
       "Census Year                                                        \n",
       "1951                         301.2                         20.80   \n",
       "1961                         336.9                         36.39   \n",
       "1971                         412.0                         45.40   \n",
       "1981                         484.1                         54.39   \n",
       "1991                         558.6                         62.66   \n",
       "2001                         624.1                         73.47   \n",
       "2011                         721.4                         80.09   \n",
       "\n",
       "             Percentage of Literacy Male  Percentage of Literacy Female  \\\n",
       "Census Year                                                               \n",
       "1951                               31.70                          10.10   \n",
       "1961                               51.59                          21.06   \n",
       "1971                               59.54                          30.92   \n",
       "1981                               68.05                          40.43   \n",
       "1991                               73.75                          51.33   \n",
       "2001                               82.33                          64.55   \n",
       "2011                               86.77                          73.44   \n",
       "\n",
       "             Literacy Total  Literacy Male  Literacy Female  \n",
       "Census Year                                                  \n",
       "1951                  62.64          95.48            30.42  \n",
       "1961                 122.59         173.80            70.95  \n",
       "1971                 187.05         245.30           127.39  \n",
       "1981                 263.30         329.63           195.72  \n",
       "1991                 350.01         411.96           286.72  \n",
       "2001                 458.52         513.82           402.86  \n",
       "2011                 577.77         625.96           529.80  "
      ]
     },
     "execution_count": 14,
     "metadata": {},
     "output_type": "execute_result"
    }
   ],
   "source": [
    "literacy"
   ]
  },
  {
   "cell_type": "code",
   "execution_count": 25,
   "metadata": {},
   "outputs": [],
   "source": [
    "import numpy as np\n",
    "literacy[\"Literacy Total\"] = np.multiply(literacy['Population (in Lakhs)']/100, literacy[\"Percentage of Literacy Total\"])\n",
    "literacy[\"Literacy Male\"] = np.multiply(literacy['Population (in Lakhs)']/100, literacy[\"Percentage of Literacy Male\"])\n",
    "literacy[\"Literacy Female\"] = np.multiply(literacy['Population (in Lakhs)']/100, literacy[\"Percentage of Literacy Female\"])\n"
   ]
  },
  {
   "cell_type": "code",
   "execution_count": 26,
   "metadata": {},
   "outputs": [
    {
     "data": {
      "text/html": [
       "<div>\n",
       "<style>\n",
       "    .dataframe thead tr:only-child th {\n",
       "        text-align: right;\n",
       "    }\n",
       "\n",
       "    .dataframe thead th {\n",
       "        text-align: left;\n",
       "    }\n",
       "\n",
       "    .dataframe tbody tr th {\n",
       "        vertical-align: top;\n",
       "    }\n",
       "</style>\n",
       "<table border=\"1\" class=\"dataframe\">\n",
       "  <thead>\n",
       "    <tr style=\"text-align: right;\">\n",
       "      <th></th>\n",
       "      <th>Population (in Lakhs)</th>\n",
       "      <th>Percentage of Literacy Total</th>\n",
       "      <th>Percentage of Literacy Male</th>\n",
       "      <th>Percentage of Literacy Female</th>\n",
       "      <th>Literacy Total</th>\n",
       "      <th>Literacy Male</th>\n",
       "      <th>Literacy Female</th>\n",
       "    </tr>\n",
       "    <tr>\n",
       "      <th>Census Year</th>\n",
       "      <th></th>\n",
       "      <th></th>\n",
       "      <th></th>\n",
       "      <th></th>\n",
       "      <th></th>\n",
       "      <th></th>\n",
       "      <th></th>\n",
       "    </tr>\n",
       "  </thead>\n",
       "  <tbody>\n",
       "    <tr>\n",
       "      <th>1951</th>\n",
       "      <td>301.2</td>\n",
       "      <td>20.80</td>\n",
       "      <td>31.70</td>\n",
       "      <td>10.10</td>\n",
       "      <td>62.64960</td>\n",
       "      <td>95.48040</td>\n",
       "      <td>30.42120</td>\n",
       "    </tr>\n",
       "    <tr>\n",
       "      <th>1961</th>\n",
       "      <td>336.9</td>\n",
       "      <td>36.39</td>\n",
       "      <td>51.59</td>\n",
       "      <td>21.06</td>\n",
       "      <td>122.59791</td>\n",
       "      <td>173.80671</td>\n",
       "      <td>70.95114</td>\n",
       "    </tr>\n",
       "    <tr>\n",
       "      <th>1971</th>\n",
       "      <td>412.0</td>\n",
       "      <td>45.40</td>\n",
       "      <td>59.54</td>\n",
       "      <td>30.92</td>\n",
       "      <td>187.04800</td>\n",
       "      <td>245.30480</td>\n",
       "      <td>127.39040</td>\n",
       "    </tr>\n",
       "    <tr>\n",
       "      <th>1981</th>\n",
       "      <td>484.1</td>\n",
       "      <td>54.39</td>\n",
       "      <td>68.05</td>\n",
       "      <td>40.43</td>\n",
       "      <td>263.30199</td>\n",
       "      <td>329.43005</td>\n",
       "      <td>195.72163</td>\n",
       "    </tr>\n",
       "    <tr>\n",
       "      <th>1991</th>\n",
       "      <td>558.6</td>\n",
       "      <td>62.66</td>\n",
       "      <td>73.75</td>\n",
       "      <td>51.33</td>\n",
       "      <td>350.01876</td>\n",
       "      <td>411.96750</td>\n",
       "      <td>286.72938</td>\n",
       "    </tr>\n",
       "    <tr>\n",
       "      <th>2001</th>\n",
       "      <td>624.1</td>\n",
       "      <td>73.47</td>\n",
       "      <td>82.33</td>\n",
       "      <td>64.55</td>\n",
       "      <td>458.52627</td>\n",
       "      <td>513.82153</td>\n",
       "      <td>402.85655</td>\n",
       "    </tr>\n",
       "    <tr>\n",
       "      <th>2011</th>\n",
       "      <td>721.4</td>\n",
       "      <td>80.09</td>\n",
       "      <td>86.77</td>\n",
       "      <td>73.44</td>\n",
       "      <td>577.76926</td>\n",
       "      <td>625.95878</td>\n",
       "      <td>529.79616</td>\n",
       "    </tr>\n",
       "  </tbody>\n",
       "</table>\n",
       "</div>"
      ],
      "text/plain": [
       "             Population (in Lakhs)  Percentage of Literacy Total  \\\n",
       "Census Year                                                        \n",
       "1951                         301.2                         20.80   \n",
       "1961                         336.9                         36.39   \n",
       "1971                         412.0                         45.40   \n",
       "1981                         484.1                         54.39   \n",
       "1991                         558.6                         62.66   \n",
       "2001                         624.1                         73.47   \n",
       "2011                         721.4                         80.09   \n",
       "\n",
       "             Percentage of Literacy Male  Percentage of Literacy Female  \\\n",
       "Census Year                                                               \n",
       "1951                               31.70                          10.10   \n",
       "1961                               51.59                          21.06   \n",
       "1971                               59.54                          30.92   \n",
       "1981                               68.05                          40.43   \n",
       "1991                               73.75                          51.33   \n",
       "2001                               82.33                          64.55   \n",
       "2011                               86.77                          73.44   \n",
       "\n",
       "             Literacy Total  Literacy Male  Literacy Female  \n",
       "Census Year                                                  \n",
       "1951               62.64960       95.48040         30.42120  \n",
       "1961              122.59791      173.80671         70.95114  \n",
       "1971              187.04800      245.30480        127.39040  \n",
       "1981              263.30199      329.43005        195.72163  \n",
       "1991              350.01876      411.96750        286.72938  \n",
       "2001              458.52627      513.82153        402.85655  \n",
       "2011              577.76926      625.95878        529.79616  "
      ]
     },
     "execution_count": 26,
     "metadata": {},
     "output_type": "execute_result"
    }
   ],
   "source": [
    "literacy"
   ]
  },
  {
   "cell_type": "code",
   "execution_count": 18,
   "metadata": {
    "collapsed": true
   },
   "outputs": [],
   "source": [
    "def compute_percentage(x,y):\n",
    "      pct = float(x/y) * 100\n",
    "      return round(pct,2)\n",
    "\n"
   ]
  },
  {
   "cell_type": "code",
   "execution_count": 23,
   "metadata": {},
   "outputs": [
    {
     "ename": "SyntaxError",
     "evalue": "invalid syntax (<ipython-input-23-552022d48395>, line 3)",
     "output_type": "error",
     "traceback": [
      "\u001b[0;36m  File \u001b[0;32m\"<ipython-input-23-552022d48395>\"\u001b[0;36m, line \u001b[0;32m3\u001b[0m\n\u001b[0;31m    literacy[\"Percentage of Literacy Total\"]=1))\u001b[0m\n\u001b[0m           ^\u001b[0m\n\u001b[0;31mSyntaxError\u001b[0m\u001b[0;31m:\u001b[0m invalid syntax\n"
     ]
    }
   ],
   "source": [
    "literacy['Percentage of Literacy Total'].apply(lambda x: compute_percentage\n",
    "                                               (literacy['Population (in Lakhs)']\n",
    "                                                literacy[\"Percentage of Literacy Total\"]=1))\n"
   ]
  },
  {
   "cell_type": "code",
   "execution_count": 26,
   "metadata": {},
   "outputs": [
    {
     "data": {
      "text/html": [
       "<div>\n",
       "<style>\n",
       "    .dataframe thead tr:only-child th {\n",
       "        text-align: right;\n",
       "    }\n",
       "\n",
       "    .dataframe thead th {\n",
       "        text-align: left;\n",
       "    }\n",
       "\n",
       "    .dataframe tbody tr th {\n",
       "        vertical-align: top;\n",
       "    }\n",
       "</style>\n",
       "<table border=\"1\" class=\"dataframe\">\n",
       "  <thead>\n",
       "    <tr style=\"text-align: right;\">\n",
       "      <th></th>\n",
       "      <th>Population (in Lakhs)</th>\n",
       "      <th>Percentage of Literacy Total</th>\n",
       "      <th>Percentage of Literacy Male</th>\n",
       "      <th>Percentage of Literacy Female</th>\n",
       "    </tr>\n",
       "    <tr>\n",
       "      <th>Census Year</th>\n",
       "      <th></th>\n",
       "      <th></th>\n",
       "      <th></th>\n",
       "      <th></th>\n",
       "    </tr>\n",
       "  </thead>\n",
       "  <tbody>\n",
       "    <tr>\n",
       "      <th>1951</th>\n",
       "      <td>301.2</td>\n",
       "      <td>20.80</td>\n",
       "      <td>31.70</td>\n",
       "      <td>10.10</td>\n",
       "    </tr>\n",
       "    <tr>\n",
       "      <th>1961</th>\n",
       "      <td>336.9</td>\n",
       "      <td>36.39</td>\n",
       "      <td>51.59</td>\n",
       "      <td>21.06</td>\n",
       "    </tr>\n",
       "    <tr>\n",
       "      <th>1971</th>\n",
       "      <td>412.0</td>\n",
       "      <td>45.40</td>\n",
       "      <td>59.54</td>\n",
       "      <td>30.92</td>\n",
       "    </tr>\n",
       "    <tr>\n",
       "      <th>1981</th>\n",
       "      <td>484.1</td>\n",
       "      <td>54.39</td>\n",
       "      <td>68.05</td>\n",
       "      <td>40.43</td>\n",
       "    </tr>\n",
       "    <tr>\n",
       "      <th>1991</th>\n",
       "      <td>558.6</td>\n",
       "      <td>62.66</td>\n",
       "      <td>73.75</td>\n",
       "      <td>51.33</td>\n",
       "    </tr>\n",
       "    <tr>\n",
       "      <th>2001</th>\n",
       "      <td>624.1</td>\n",
       "      <td>73.47</td>\n",
       "      <td>82.33</td>\n",
       "      <td>64.55</td>\n",
       "    </tr>\n",
       "    <tr>\n",
       "      <th>2011</th>\n",
       "      <td>721.4</td>\n",
       "      <td>80.09</td>\n",
       "      <td>86.77</td>\n",
       "      <td>73.44</td>\n",
       "    </tr>\n",
       "  </tbody>\n",
       "</table>\n",
       "</div>"
      ],
      "text/plain": [
       "             Population (in Lakhs)  Percentage of Literacy Total  \\\n",
       "Census Year                                                        \n",
       "1951                         301.2                         20.80   \n",
       "1961                         336.9                         36.39   \n",
       "1971                         412.0                         45.40   \n",
       "1981                         484.1                         54.39   \n",
       "1991                         558.6                         62.66   \n",
       "2001                         624.1                         73.47   \n",
       "2011                         721.4                         80.09   \n",
       "\n",
       "             Percentage of Literacy Male  Percentage of Literacy Female  \n",
       "Census Year                                                              \n",
       "1951                               31.70                          10.10  \n",
       "1961                               51.59                          21.06  \n",
       "1971                               59.54                          30.92  \n",
       "1981                               68.05                          40.43  \n",
       "1991                               73.75                          51.33  \n",
       "2001                               82.33                          64.55  \n",
       "2011                               86.77                          73.44  "
      ]
     },
     "execution_count": 26,
     "metadata": {},
     "output_type": "execute_result"
    }
   ],
   "source": [
    "literacy\n"
   ]
  },
  {
   "cell_type": "code",
   "execution_count": 23,
   "metadata": {},
   "outputs": [
    {
     "ename": "SyntaxError",
     "evalue": "EOL while scanning string literal (<ipython-input-23-94297a1503fb>, line 1)",
     "output_type": "error",
     "traceback": [
      "\u001b[0;36m  File \u001b[0;32m\"<ipython-input-23-94297a1503fb>\"\u001b[0;36m, line \u001b[0;32m1\u001b[0m\n\u001b[0;31m    pct = float(\"20.80/literacy['Population (in Lakhs)']) * 100\u001b[0m\n\u001b[0m                                                               ^\u001b[0m\n\u001b[0;31mSyntaxError\u001b[0m\u001b[0;31m:\u001b[0m EOL while scanning string literal\n"
     ]
    }
   ],
   "source": []
  },
  {
   "cell_type": "code",
   "execution_count": 32,
   "metadata": {},
   "outputs": [
    {
     "data": {
      "text/plain": [
       "Census Year\n",
       "1951    10.40\n",
       "1961    18.20\n",
       "1971    22.70\n",
       "1981    27.20\n",
       "1991    31.33\n",
       "2001    36.73\n",
       "2011    40.05\n",
       "Name: Percentage of Literacy Total, dtype: float64"
      ]
     },
     "execution_count": 32,
     "metadata": {},
     "output_type": "execute_result"
    }
   ],
   "source": [
    "literacy[\"Percentage of Literacy Total\"].apply(compute_percentage)"
   ]
  },
  {
   "cell_type": "code",
   "execution_count": 27,
   "metadata": {},
   "outputs": [
    {
     "data": {
      "text/plain": [
       "'file:///Users/siva/Documents/Code/Pandas/temp-plot.html'"
      ]
     },
     "execution_count": 27,
     "metadata": {},
     "output_type": "execute_result"
    }
   ],
   "source": [
    "import plotly\n",
    "from plotly.graph_objs import Scatter, Layout\n",
    "import plotly.graph_objs as go\n",
    "\n",
    "\n",
    "literate = [go.Bar(x=literacy.index, y=literacy[\"Population (in Lakhs)\"])]\n",
    "\n",
    "\n",
    "plotly.offline.plot({ 'data': literate,\n",
    "            'layout': {\n",
    "               'title': 'POPULATION LITERACY RATE IN TN',\n",
    "               'xaxis': {\n",
    "                 'title': 'YEAR'},\n",
    "               'yaxis': {\n",
    "                'title': 'POPULATION (in lakhs) '}\n",
    "        }})"
   ]
  },
  {
   "cell_type": "code",
   "execution_count": 28,
   "metadata": {
    "collapsed": true
   },
   "outputs": [],
   "source": [
    "import plotly.plotly as py\n",
    "from plotly.graph_objs import *\n"
   ]
  },
  {
   "cell_type": "code",
   "execution_count": 45,
   "metadata": {},
   "outputs": [],
   "source": [
    "trace1 = {\n",
    "  \"x\": [1951, 1961, 1971, 1981, 1991, 2001, 2011], \n",
    "  \"y\": [\"62.64\", \"122.59\", \"187.05\", \"263.3\", \"350.01\", \"458.52\", \"577.77\"], \n",
    "  \"marker\": {\n",
    "    \"line\": {\"width\": 1}, \n",
    "    \"symbol\": \"hash-open-dot\"\n",
    "  }, \n",
    "  \"mode\": \"lines+markers\", \n",
    "  \"name\": \"Literacy Total\", \n",
    "  \"text\": [\"62.64\", \"122.59\", \"187.05\", \"263.3\", \"350.01\", \"458.52\", \"577.77\"], \n",
    "  \"textsrc\": \"sivabalan:0:a12243\", \n",
    "  \"type\": \"scatter\", \n",
    "  \"uid\": \"ab6d87\", \n",
    "  \"xsrc\": \"sivabalan:0:64269c\", \n",
    "  \"ysrc\": \"sivabalan:0:a12243\"\n",
    "}\n",
    "trace2 = {\n",
    "  \"x\": [1951, 1961, 1971, 1981, 1991, 2001, 2011], \n",
    "  \"y\": [\"95.48\", \"173.8\", \"245.3\", \"329.63\", \"411.96\", \"513.82\", \"625.96\"], \n",
    "  \"hoverinfo\": \"x+y\", \n",
    "  \"marker\": {\n",
    "    \"color\": \"rgb(57, 172, 115)\", \n",
    "    \"line\": {\"width\": 0}\n",
    "  }, \n",
    "  \"name\": \"Literacy Male\", \n",
    "  \"opacity\": 1, \n",
    "  \"text\": [\"95.48\", \"173.8\", \"245.3\", \"329.63\", \"411.96\", \"513.82\", \"625.96\"], \n",
    "  \"textsrc\": \"sivabalan:0:d51cc3\", \n",
    "  \"type\": \"bar\", \n",
    "  \"uid\": \"01452a\", \n",
    "  \"xsrc\": \"sivabalan:0:64269c\", \n",
    "  \"ysrc\": \"sivabalan:0:d51cc3\"\n",
    "}\n",
    "trace3 = {\n",
    "  \"x\": [1951, 1961, 1971, 1981, 1991, 2001, 2011], \n",
    "  \"y\": [\"30.42\", \"70.95\", \"127.39\", \"195.72\", \"286.72\", \"402.86\", \"529.8\"], \n",
    "  \"hoverinfo\": \"x+y\", \n",
    "  \"marker\": {\n",
    "    \"color\": \"rgb(32, 96, 64)\", \n",
    "    \"line\": {\"width\": 0}\n",
    "  }, \n",
    "  \"name\": \"Literacy Female\", \n",
    "  \"opacity\": 1, \n",
    "  \"text\": [\"30.42\", \"70.95\", \"127.39\", \"195.72\", \"286.72\", \"402.86\", \"529.8\"], \n",
    "  \"textsrc\": \"sivabalan:0:ea8d61\", \n",
    "  \"type\": \"bar\", \n",
    "  \"uid\": \"447297\", \n",
    "  \"xsrc\": \"sivabalan:0:64269c\", \n",
    "  \"ysrc\": \"sivabalan:0:ea8d61\"\n",
    "}\n",
    "data = Data([trace1, trace2, trace3])\n",
    "layout = {\n",
    "  \"autosize\": True, \n",
    "  \"barmode\": \"group\", \n",
    "  \"paper_bgcolor\": \"rgb(255, 250, 230)\", \n",
    "  \"plot_bgcolor\": \"rgb(255, 250, 230)\", \n",
    "  \"showlegend\": True, \n",
    "  \"title\": \"POPULATION LITERACY RATE IN TAMILNADU\", \n",
    "  \"titlefont\": {\"family\": \"Roboto\"}, \n",
    "  \"xaxis\": {\n",
    "    \"autorange\": True, \n",
    "    \"range\": [1946, 2016], \n",
    "    \"title\": \"YEAR\", \n",
    "    \"type\": \"linear\"\n",
    "  }, \n",
    "  \"yaxis\": {\n",
    "    \"autorange\": True, \n",
    "    \"range\": [0, 658.905263158], \n",
    "    \"title\": \"POPULATION (in lakhs) \", \n",
    "    \"type\": \"linear\"\n",
    "  }\n",
    "}\n",
    "fig = Figure(data=data, layout=layout)\n",
    "plot_url = plotly.offline.plot(fig)"
   ]
  },
  {
   "cell_type": "code",
   "execution_count": 31,
   "metadata": {
    "collapsed": true
   },
   "outputs": [],
   "source": [
    "import colorlover as cl\n",
    "from IPython.display import HTML"
   ]
  },
  {
   "cell_type": "code",
   "execution_count": 32,
   "metadata": {},
   "outputs": [
    {
     "data": {
      "text/html": [
       "<div style=\"background-color:rgb(252,141,89);height:20px;width:20px;display:inline-block;\"></div><div style=\"background-color:rgb(255,255,191);height:20px;width:20px;display:inline-block;\"></div><div style=\"background-color:rgb(145,191,219);height:20px;width:20px;display:inline-block;\"></div>"
      ],
      "text/plain": [
       "<IPython.core.display.HTML object>"
      ]
     },
     "execution_count": 32,
     "metadata": {},
     "output_type": "execute_result"
    }
   ],
   "source": [
    "HTML(cl.to_html( cl.scales['3']['div']['RdYlBu'] ))\n"
   ]
  },
  {
   "cell_type": "code",
   "execution_count": 34,
   "metadata": {},
   "outputs": [
    {
     "data": {
      "text/html": [
       "<h4>Diverging</h4><div style=\"display:inline-block;padding:10px;\"><div>BrBG</div><div style=\"background-color:rgb(84,48,5);height:20px;width:20px;display:inline-block;\"></div><div style=\"background-color:rgb(140,81,10);height:20px;width:20px;display:inline-block;\"></div><div style=\"background-color:rgb(191,129,45);height:20px;width:20px;display:inline-block;\"></div><div style=\"background-color:rgb(223,194,125);height:20px;width:20px;display:inline-block;\"></div><div style=\"background-color:rgb(246,232,195);height:20px;width:20px;display:inline-block;\"></div><div style=\"background-color:rgb(245,245,245);height:20px;width:20px;display:inline-block;\"></div><div style=\"background-color:rgb(199,234,229);height:20px;width:20px;display:inline-block;\"></div><div style=\"background-color:rgb(128,205,193);height:20px;width:20px;display:inline-block;\"></div><div style=\"background-color:rgb(53,151,143);height:20px;width:20px;display:inline-block;\"></div><div style=\"background-color:rgb(1,102,94);height:20px;width:20px;display:inline-block;\"></div><div style=\"background-color:rgb(0,60,48);height:20px;width:20px;display:inline-block;\"></div></div><div style=\"display:inline-block;padding:10px;\"><div>PRGn</div><div style=\"background-color:rgb(64,0,75);height:20px;width:20px;display:inline-block;\"></div><div style=\"background-color:rgb(118,42,131);height:20px;width:20px;display:inline-block;\"></div><div style=\"background-color:rgb(153,112,171);height:20px;width:20px;display:inline-block;\"></div><div style=\"background-color:rgb(194,165,207);height:20px;width:20px;display:inline-block;\"></div><div style=\"background-color:rgb(231,212,232);height:20px;width:20px;display:inline-block;\"></div><div style=\"background-color:rgb(247,247,247);height:20px;width:20px;display:inline-block;\"></div><div style=\"background-color:rgb(217,240,211);height:20px;width:20px;display:inline-block;\"></div><div style=\"background-color:rgb(166,219,160);height:20px;width:20px;display:inline-block;\"></div><div style=\"background-color:rgb(90,174,97);height:20px;width:20px;display:inline-block;\"></div><div style=\"background-color:rgb(27,120,55);height:20px;width:20px;display:inline-block;\"></div><div style=\"background-color:rgb(0,68,27);height:20px;width:20px;display:inline-block;\"></div></div><div style=\"display:inline-block;padding:10px;\"><div>PiYG</div><div style=\"background-color:rgb(142,1,82);height:20px;width:20px;display:inline-block;\"></div><div style=\"background-color:rgb(197,27,125);height:20px;width:20px;display:inline-block;\"></div><div style=\"background-color:rgb(222,119,174);height:20px;width:20px;display:inline-block;\"></div><div style=\"background-color:rgb(241,182,218);height:20px;width:20px;display:inline-block;\"></div><div style=\"background-color:rgb(253,224,239);height:20px;width:20px;display:inline-block;\"></div><div style=\"background-color:rgb(247,247,247);height:20px;width:20px;display:inline-block;\"></div><div style=\"background-color:rgb(230,245,208);height:20px;width:20px;display:inline-block;\"></div><div style=\"background-color:rgb(184,225,134);height:20px;width:20px;display:inline-block;\"></div><div style=\"background-color:rgb(127,188,65);height:20px;width:20px;display:inline-block;\"></div><div style=\"background-color:rgb(77,146,33);height:20px;width:20px;display:inline-block;\"></div><div style=\"background-color:rgb(39,100,25);height:20px;width:20px;display:inline-block;\"></div></div><div style=\"display:inline-block;padding:10px;\"><div>PuOr</div><div style=\"background-color:rgb(127,59,8);height:20px;width:20px;display:inline-block;\"></div><div style=\"background-color:rgb(179,88,6);height:20px;width:20px;display:inline-block;\"></div><div style=\"background-color:rgb(224,130,20);height:20px;width:20px;display:inline-block;\"></div><div style=\"background-color:rgb(253,184,99);height:20px;width:20px;display:inline-block;\"></div><div style=\"background-color:rgb(254,224,182);height:20px;width:20px;display:inline-block;\"></div><div style=\"background-color:rgb(247,247,247);height:20px;width:20px;display:inline-block;\"></div><div style=\"background-color:rgb(216,218,235);height:20px;width:20px;display:inline-block;\"></div><div style=\"background-color:rgb(178,171,210);height:20px;width:20px;display:inline-block;\"></div><div style=\"background-color:rgb(128,115,172);height:20px;width:20px;display:inline-block;\"></div><div style=\"background-color:rgb(84,39,136);height:20px;width:20px;display:inline-block;\"></div><div style=\"background-color:rgb(45,0,75);height:20px;width:20px;display:inline-block;\"></div></div><div style=\"display:inline-block;padding:10px;\"><div>RdBu</div><div style=\"background-color:rgb(103,0,31);height:20px;width:20px;display:inline-block;\"></div><div style=\"background-color:rgb(178,24,43);height:20px;width:20px;display:inline-block;\"></div><div style=\"background-color:rgb(214,96,77);height:20px;width:20px;display:inline-block;\"></div><div style=\"background-color:rgb(244,165,130);height:20px;width:20px;display:inline-block;\"></div><div style=\"background-color:rgb(253,219,199);height:20px;width:20px;display:inline-block;\"></div><div style=\"background-color:rgb(247,247,247);height:20px;width:20px;display:inline-block;\"></div><div style=\"background-color:rgb(209,229,240);height:20px;width:20px;display:inline-block;\"></div><div style=\"background-color:rgb(146,197,222);height:20px;width:20px;display:inline-block;\"></div><div style=\"background-color:rgb(67,147,195);height:20px;width:20px;display:inline-block;\"></div><div style=\"background-color:rgb(33,102,172);height:20px;width:20px;display:inline-block;\"></div><div style=\"background-color:rgb(5,48,97);height:20px;width:20px;display:inline-block;\"></div></div><div style=\"display:inline-block;padding:10px;\"><div>RdGy</div><div style=\"background-color:rgb(103,0,31);height:20px;width:20px;display:inline-block;\"></div><div style=\"background-color:rgb(178,24,43);height:20px;width:20px;display:inline-block;\"></div><div style=\"background-color:rgb(214,96,77);height:20px;width:20px;display:inline-block;\"></div><div style=\"background-color:rgb(244,165,130);height:20px;width:20px;display:inline-block;\"></div><div style=\"background-color:rgb(253,219,199);height:20px;width:20px;display:inline-block;\"></div><div style=\"background-color:rgb(255,255,255);height:20px;width:20px;display:inline-block;\"></div><div style=\"background-color:rgb(224,224,224);height:20px;width:20px;display:inline-block;\"></div><div style=\"background-color:rgb(186,186,186);height:20px;width:20px;display:inline-block;\"></div><div style=\"background-color:rgb(135,135,135);height:20px;width:20px;display:inline-block;\"></div><div style=\"background-color:rgb(77,77,77);height:20px;width:20px;display:inline-block;\"></div><div style=\"background-color:rgb(26,26,26);height:20px;width:20px;display:inline-block;\"></div></div><div style=\"display:inline-block;padding:10px;\"><div>RdYlBu</div><div style=\"background-color:rgb(165,0,38);height:20px;width:20px;display:inline-block;\"></div><div style=\"background-color:rgb(215,48,39);height:20px;width:20px;display:inline-block;\"></div><div style=\"background-color:rgb(244,109,67);height:20px;width:20px;display:inline-block;\"></div><div style=\"background-color:rgb(253,174,97);height:20px;width:20px;display:inline-block;\"></div><div style=\"background-color:rgb(254,224,144);height:20px;width:20px;display:inline-block;\"></div><div style=\"background-color:rgb(255,255,191);height:20px;width:20px;display:inline-block;\"></div><div style=\"background-color:rgb(224,243,248);height:20px;width:20px;display:inline-block;\"></div><div style=\"background-color:rgb(171,217,233);height:20px;width:20px;display:inline-block;\"></div><div style=\"background-color:rgb(116,173,209);height:20px;width:20px;display:inline-block;\"></div><div style=\"background-color:rgb(69,117,180);height:20px;width:20px;display:inline-block;\"></div><div style=\"background-color:rgb(49,54,149);height:20px;width:20px;display:inline-block;\"></div></div><div style=\"display:inline-block;padding:10px;\"><div>RdYlGn</div><div style=\"background-color:rgb(165,0,38);height:20px;width:20px;display:inline-block;\"></div><div style=\"background-color:rgb(215,48,39);height:20px;width:20px;display:inline-block;\"></div><div style=\"background-color:rgb(244,109,67);height:20px;width:20px;display:inline-block;\"></div><div style=\"background-color:rgb(253,174,97);height:20px;width:20px;display:inline-block;\"></div><div style=\"background-color:rgb(254,224,139);height:20px;width:20px;display:inline-block;\"></div><div style=\"background-color:rgb(255,255,191);height:20px;width:20px;display:inline-block;\"></div><div style=\"background-color:rgb(217,239,139);height:20px;width:20px;display:inline-block;\"></div><div style=\"background-color:rgb(166,217,106);height:20px;width:20px;display:inline-block;\"></div><div style=\"background-color:rgb(102,189,99);height:20px;width:20px;display:inline-block;\"></div><div style=\"background-color:rgb(26,152,80);height:20px;width:20px;display:inline-block;\"></div><div style=\"background-color:rgb(0,104,55);height:20px;width:20px;display:inline-block;\"></div></div><div style=\"display:inline-block;padding:10px;\"><div>Spectral</div><div style=\"background-color:rgb(158,1,66);height:20px;width:20px;display:inline-block;\"></div><div style=\"background-color:rgb(213,62,79);height:20px;width:20px;display:inline-block;\"></div><div style=\"background-color:rgb(244,109,67);height:20px;width:20px;display:inline-block;\"></div><div style=\"background-color:rgb(253,174,97);height:20px;width:20px;display:inline-block;\"></div><div style=\"background-color:rgb(254,224,139);height:20px;width:20px;display:inline-block;\"></div><div style=\"background-color:rgb(255,255,191);height:20px;width:20px;display:inline-block;\"></div><div style=\"background-color:rgb(230,245,152);height:20px;width:20px;display:inline-block;\"></div><div style=\"background-color:rgb(171,221,164);height:20px;width:20px;display:inline-block;\"></div><div style=\"background-color:rgb(102,194,165);height:20px;width:20px;display:inline-block;\"></div><div style=\"background-color:rgb(50,136,189);height:20px;width:20px;display:inline-block;\"></div><div style=\"background-color:rgb(94,79,162);height:20px;width:20px;display:inline-block;\"></div></div><h4>Qualitative</h4><div style=\"display:inline-block;padding:10px;\"><div>Paired</div><div style=\"background-color:rgb(166,206,227);height:20px;width:20px;display:inline-block;\"></div><div style=\"background-color:rgb(31,120,180);height:20px;width:20px;display:inline-block;\"></div><div style=\"background-color:rgb(178,223,138);height:20px;width:20px;display:inline-block;\"></div><div style=\"background-color:rgb(51,160,44);height:20px;width:20px;display:inline-block;\"></div><div style=\"background-color:rgb(251,154,153);height:20px;width:20px;display:inline-block;\"></div><div style=\"background-color:rgb(227,26,28);height:20px;width:20px;display:inline-block;\"></div><div style=\"background-color:rgb(253,191,111);height:20px;width:20px;display:inline-block;\"></div><div style=\"background-color:rgb(255,127,0);height:20px;width:20px;display:inline-block;\"></div><div style=\"background-color:rgb(202,178,214);height:20px;width:20px;display:inline-block;\"></div><div style=\"background-color:rgb(106,61,154);height:20px;width:20px;display:inline-block;\"></div><div style=\"background-color:rgb(255,255,153);height:20px;width:20px;display:inline-block;\"></div></div><div style=\"display:inline-block;padding:10px;\"><div>Set3</div><div style=\"background-color:rgb(141,211,199);height:20px;width:20px;display:inline-block;\"></div><div style=\"background-color:rgb(255,255,179);height:20px;width:20px;display:inline-block;\"></div><div style=\"background-color:rgb(190,186,218);height:20px;width:20px;display:inline-block;\"></div><div style=\"background-color:rgb(251,128,114);height:20px;width:20px;display:inline-block;\"></div><div style=\"background-color:rgb(128,177,211);height:20px;width:20px;display:inline-block;\"></div><div style=\"background-color:rgb(253,180,98);height:20px;width:20px;display:inline-block;\"></div><div style=\"background-color:rgb(179,222,105);height:20px;width:20px;display:inline-block;\"></div><div style=\"background-color:rgb(252,205,229);height:20px;width:20px;display:inline-block;\"></div><div style=\"background-color:rgb(217,217,217);height:20px;width:20px;display:inline-block;\"></div><div style=\"background-color:rgb(188,128,189);height:20px;width:20px;display:inline-block;\"></div><div style=\"background-color:rgb(204,235,197);height:20px;width:20px;display:inline-block;\"></div></div>"
      ],
      "text/plain": [
       "<IPython.core.display.HTML object>"
      ]
     },
     "execution_count": 34,
     "metadata": {},
     "output_type": "execute_result"
    }
   ],
   "source": [
    "HTML(cl.to_html( cl.scales['11'] )) # All scales with 11 colors\n"
   ]
  },
  {
   "cell_type": "code",
   "execution_count": null,
   "metadata": {
    "collapsed": true
   },
   "outputs": [],
   "source": []
  },
  {
   "cell_type": "code",
   "execution_count": null,
   "metadata": {
    "collapsed": true
   },
   "outputs": [],
   "source": []
  },
  {
   "cell_type": "code",
   "execution_count": null,
   "metadata": {
    "collapsed": true
   },
   "outputs": [],
   "source": []
  },
  {
   "cell_type": "code",
   "execution_count": null,
   "metadata": {
    "collapsed": true
   },
   "outputs": [],
   "source": []
  }
 ],
 "metadata": {
  "kernelspec": {
   "display_name": "Python 3",
   "language": "python",
   "name": "python3"
  },
  "language_info": {
   "codemirror_mode": {
    "name": "ipython",
    "version": 3
   },
   "file_extension": ".py",
   "mimetype": "text/x-python",
   "name": "python",
   "nbconvert_exporter": "python",
   "pygments_lexer": "ipython3",
   "version": "3.6.4"
  }
 },
 "nbformat": 4,
 "nbformat_minor": 2
}
